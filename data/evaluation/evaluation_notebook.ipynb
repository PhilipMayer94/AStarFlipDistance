{
 "cells": [
  {
   "cell_type": "code",
   "execution_count": 1,
   "metadata": {
    "ExecuteTime": {
     "end_time": "2024-02-09T13:08:07.098725058Z",
     "start_time": "2024-02-09T13:08:07.044924801Z"
    }
   },
   "outputs": [],
   "source": [
    "import pandas as pd\n",
    "import seaborn as sns\n",
    "import numpy as np\n",
    "import matplotlib.pyplot as plt\n",
    "import os\n",
    "\n",
    "def load_data(file_path, size_tt):\n",
    "    file_path=os.path.abspath(file_path)\n",
    "    if os.path.isfile(file_path) and os.path.getsize(file_path) > 0:\n",
    "        data_tt = pd.read_csv(file_path, sep=\" \")\n",
    "        data_tt['size'] = size_tt\n",
    "        return data_tt\n",
    "    else:\n",
    "        return None\n",
    "    \n",
    "deep_palette_colors = sns.color_palette(\"deep\")[:9]\n",
    "\n",
    "CAS=deep_palette_colors[0]\n",
    "CAE=deep_palette_colors[1]\n",
    "CAC=deep_palette_colors[2]\n",
    "CAI=deep_palette_colors[3]\n",
    "CAB=deep_palette_colors[8]\n",
    "\n",
    "\n"
   ]
  },
  {
   "cell_type": "code",
   "execution_count": 2,
   "metadata": {
    "ExecuteTime": {
     "end_time": "2024-02-09T13:08:07.256791908Z",
     "start_time": "2024-02-09T13:08:07.056850802Z"
    }
   },
   "outputs": [],
   "source": [
    "dR10E = load_data(\"../random_experiments_paper/n_10/results_eppstein.csv\", 'R10')\n",
    "dR15E = load_data(\"../random_experiments_paper/n_15/results_eppstein.csv\", 'R15')\n",
    "dR20E = load_data(\"../random_experiments_paper/n_20/results_eppstein.csv\", 'R20')\n",
    "dR25E = load_data(\"../random_experiments_paper/n_25/results_eppstein.csv\", 'R25')\n",
    "dR30E = load_data(\"../random_experiments_paper/n_30/results_eppstein.csv\", 'R30')\n",
    "\n",
    "dS25_2E = load_data(\"../sealevel_experiments_paper/s_25/s_25_2/results_eppstein.csv\", 'S25-2')\n",
    "dS25_5E = load_data(\"../sealevel_experiments_paper/s_25/s_25_5/results_eppstein.csv\", 'S25-5')\n",
    "dS25_100E = load_data(\"../sealevel_experiments_paper/s_25/s_25_100/results_eppstein.csv\", 'S25-25')\n",
    "\n",
    "dS30_2E = load_data(\"../sealevel_experiments_paper/s_30/s_30_2/results_eppstein.csv\", 'S30-2')\n",
    "dS30_5E = load_data(\"../sealevel_experiments_paper/s_30/s_30_5/results_eppstein.csv\", 'S30-5')\n",
    "dS30_100E = load_data(\"../sealevel_experiments_paper/s_30/s_30_100/results_eppstein.csv\", 'S30-30')\n",
    "\n",
    "dS35_2E = load_data(\"../sealevel_experiments_paper/s_35/s_35_2/results_eppstein.csv\", 'S35-2')\n",
    "dS35_5E = load_data(\"../sealevel_experiments_paper/s_35/s_35_5/results_eppstein.csv\", 'S35-5')\n",
    "dS35_100E = load_data(\"../sealevel_experiments_paper/s_35/s_35_100/results_eppstein.csv\", 'S35-35')\n",
    "\n",
    "dS41_2E = load_data(\"../sealevel_experiments_paper/s_41/s_41_2/results_eppstein.csv\", 'S41-2')\n",
    "dS41_5E = load_data(\"../sealevel_experiments_paper/s_41/s_41_5/results_eppstein.csv\", 'S41-5')\n",
    "dS41_100E = load_data(\"../sealevel_experiments_paper/s_41/s_41_100/results_eppstein.csv\", 'S41-41')\n",
    "\n",
    "\n",
    "\n",
    "\n",
    "data_frames_r = [df for df in [dR10E, dR15E, dR20E, dR25E, dR30E] if df is not None]\n",
    "\n",
    "data_frames = [df for df in [ dS25_5E, dS25_100E,  dS30_5E, dS30_100E\n",
    "                           , dS35_5E, dS35_100E, dS41_2E, dS41_5E, dS41_100E] if df is not None]\n",
    "\n",
    "dRE = pd.concat(data_frames_r, ignore_index=True)\n",
    "dRE['Type'] = 'A$_E$'\n",
    "dRE['runtime'] = dRE['runtime'] + 1\n",
    "\n",
    "dSE = pd.concat(data_frames, ignore_index=True)\n",
    "dSE['Type'] = 'A$_E$'\n",
    "dSE['runtime'] = dSE['runtime'] + 1\n",
    "\n",
    "\n",
    "\n",
    "\n"
   ]
  },
  {
   "cell_type": "code",
   "execution_count": 3,
   "metadata": {
    "ExecuteTime": {
     "end_time": "2024-02-09T13:08:07.300837006Z",
     "start_time": "2024-02-09T13:08:07.170425533Z"
    }
   },
   "outputs": [],
   "source": [
    "dR10S = load_data(\"../random_experiments_paper/n_10/results_simple.csv\", 'R10')\n",
    "dR15S = load_data(\"../random_experiments_paper/n_15/results_simple.csv\", 'R15')\n",
    "dR20S = load_data(\"../random_experiments_paper/n_20/results_simple.csv\", 'R20')\n",
    "dR25S = load_data(\"../random_experiments_paper/n_25/results_simple.csv\", 'R25')\n",
    "dR30S = load_data(\"../random_experiments_paper/n_30/results_simple.csv\", 'R30')\n",
    "\n",
    "dS25_2S = load_data(\"../sealevel_experiments_paper/s_25/s_25_2/results_simple.csv\", 'S25-2')\n",
    "dS25_5S = load_data(\"../sealevel_experiments_paper/s_25/s_25_5/results_simple.csv\", 'S25-5')\n",
    "dS25_100S = load_data(\"../sealevel_experiments_paper/s_25/s_25_100/results_simple.csv\", 'S25-25')\n",
    "\n",
    "dS30_2S = load_data(\"../sealevel_experiments_paper/s_30/s_30_2/results_simple.csv\", 'S30-2')\n",
    "dS30_5S = load_data(\"../sealevel_experiments_paper/s_30/s_30_5/results_simple.csv\", 'S30-5')\n",
    "dS30_100S = load_data(\"../sealevel_experiments_paper/s_30/s_30_100/results_simple.csv\", 'S30-30')\n",
    "\n",
    "\n",
    "dS35_2S = load_data(\"../sealevel_experiments_paper/s_35/s_35_2/results_simple.csv\", 'S35-2')\n",
    "dS35_5S = load_data(\"../sealevel_experiments_paper/s_35/s_35_5/results_simple.csv\", 'S35-5')\n",
    "dS35_100S = load_data(\"../sealevel_experiments_paper/s_35/s_35_100/results_simple.csv\", 'S35-35')\n",
    "\n",
    "dS41_2S = load_data(\"../sealevel_experiments_paper/s_41/s_41_2/results_simple.csv\", 'S41-2')\n",
    "dS41_5S = load_data(\"../sealevel_experiments_paper/s_41/s_41_5/results_simple.csv\", 'S41-5')\n",
    "dS41_100S = load_data(\"../sealevel_experiments_paper/s_41/s_41_100/results_simple.csv\", 'S41-41')\n",
    "\n",
    "\n",
    "\n",
    "data_frames_r = [df for df in [dR10S, dR15S, dR20S, dR25S, dR30S] if df is not None]\n",
    "\n",
    "data_frames = [df for df in [ dS25_5S, dS25_100S, dS30_5S, dS30_100S\n",
    "                           , dS35_5S, dS35_100S, dS41_2S, dS41_5S, dS41_100S] if df is not None]\n",
    "\n",
    "dRS = pd.concat(data_frames_r, ignore_index=True)\n",
    "dRS['Type'] = 'A$_S$'\n",
    "dRS['runtime'] = dRS['runtime'] + 1\n",
    "\n",
    "dSS = pd.concat(data_frames, ignore_index=True)\n",
    "dSS['Type'] = 'A$_S$'\n",
    "dSS['runtime'] = dSS['runtime'] + 1\n"
   ]
  },
  {
   "cell_type": "code",
   "execution_count": 4,
   "metadata": {
    "ExecuteTime": {
     "end_time": "2024-02-09T13:08:07.439580744Z",
     "start_time": "2024-02-09T13:08:07.254260209Z"
    }
   },
   "outputs": [
    {
     "data": {
      "text/plain": "                                                  file1  \\\n0     ../data/sealevel_experiments_paper/s_25/s_25_5...   \n1     ../data/sealevel_experiments_paper/s_25/s_25_5...   \n2     ../data/sealevel_experiments_paper/s_25/s_25_5...   \n3     ../data/sealevel_experiments_paper/s_25/s_25_5...   \n4     ../data/sealevel_experiments_paper/s_25/s_25_5...   \n...                                                 ...   \n5035  ../data/sealevel_experiments_paper/s_41/s_41_5...   \n5036  ../data/sealevel_experiments_paper/s_41/s_41_5...   \n5037  ../data/sealevel_experiments_paper/s_41/s_41_5...   \n5038  ../data/sealevel_experiments_paper/s_41/s_41_5...   \n5039  ../data/sealevel_experiments_paper/s_41/s_41_5...   \n\n                                                  file2  flip  heuristic  \\\n0     ../data/sealevel_experiments_paper/s_25/s_25_5...    16         16   \n1     ../data/sealevel_experiments_paper/s_25/s_25_5...    12         12   \n2     ../data/sealevel_experiments_paper/s_25/s_25_5...    12         12   \n3     ../data/sealevel_experiments_paper/s_25/s_25_5...    14         14   \n4     ../data/sealevel_experiments_paper/s_25/s_25_5...    21         21   \n...                                                 ...   ...        ...   \n5035  ../data/sealevel_experiments_paper/s_41/s_41_5...    18         18   \n5036  ../data/sealevel_experiments_paper/s_41/s_41_5...    29         28   \n5037  ../data/sealevel_experiments_paper/s_41/s_41_5...    22         22   \n5038  ../data/sealevel_experiments_paper/s_41/s_41_5...    28         27   \n5039  ../data/sealevel_experiments_paper/s_41/s_41_5...    27         27   \n\n      runtime   closed      open  count_e   count_s   size  \n0           0        0         0      0.0       0.0  S25-5  \n1           0        0         0      0.0       0.0  S25-5  \n2           0        0         0      0.0       0.0  S25-5  \n3           0        0         0      0.0       0.0  S25-5  \n4           0        0         0      0.0       0.0  S25-5  \n...       ...      ...       ...      ...       ...    ...  \n5035        0        0         0      0.0       0.0  S41-5  \n5036    76511  1444612  55446867      0.0       0.0  S41-5  \n5037        0        0         0      0.0       0.0  S41-5  \n5038    15955   240006  10336252  48000.0  192006.0  S41-5  \n5039        0        0         0      0.0       0.0  S41-5  \n\n[5040 rows x 10 columns]",
      "text/html": "<div>\n<style scoped>\n    .dataframe tbody tr th:only-of-type {\n        vertical-align: middle;\n    }\n\n    .dataframe tbody tr th {\n        vertical-align: top;\n    }\n\n    .dataframe thead th {\n        text-align: right;\n    }\n</style>\n<table border=\"1\" class=\"dataframe\">\n  <thead>\n    <tr style=\"text-align: right;\">\n      <th></th>\n      <th>file1</th>\n      <th>file2</th>\n      <th>flip</th>\n      <th>heuristic</th>\n      <th>runtime</th>\n      <th>closed</th>\n      <th>open</th>\n      <th>count_e</th>\n      <th>count_s</th>\n      <th>size</th>\n    </tr>\n  </thead>\n  <tbody>\n    <tr>\n      <th>0</th>\n      <td>../data/sealevel_experiments_paper/s_25/s_25_5...</td>\n      <td>../data/sealevel_experiments_paper/s_25/s_25_5...</td>\n      <td>16</td>\n      <td>16</td>\n      <td>0</td>\n      <td>0</td>\n      <td>0</td>\n      <td>0.0</td>\n      <td>0.0</td>\n      <td>S25-5</td>\n    </tr>\n    <tr>\n      <th>1</th>\n      <td>../data/sealevel_experiments_paper/s_25/s_25_5...</td>\n      <td>../data/sealevel_experiments_paper/s_25/s_25_5...</td>\n      <td>12</td>\n      <td>12</td>\n      <td>0</td>\n      <td>0</td>\n      <td>0</td>\n      <td>0.0</td>\n      <td>0.0</td>\n      <td>S25-5</td>\n    </tr>\n    <tr>\n      <th>2</th>\n      <td>../data/sealevel_experiments_paper/s_25/s_25_5...</td>\n      <td>../data/sealevel_experiments_paper/s_25/s_25_5...</td>\n      <td>12</td>\n      <td>12</td>\n      <td>0</td>\n      <td>0</td>\n      <td>0</td>\n      <td>0.0</td>\n      <td>0.0</td>\n      <td>S25-5</td>\n    </tr>\n    <tr>\n      <th>3</th>\n      <td>../data/sealevel_experiments_paper/s_25/s_25_5...</td>\n      <td>../data/sealevel_experiments_paper/s_25/s_25_5...</td>\n      <td>14</td>\n      <td>14</td>\n      <td>0</td>\n      <td>0</td>\n      <td>0</td>\n      <td>0.0</td>\n      <td>0.0</td>\n      <td>S25-5</td>\n    </tr>\n    <tr>\n      <th>4</th>\n      <td>../data/sealevel_experiments_paper/s_25/s_25_5...</td>\n      <td>../data/sealevel_experiments_paper/s_25/s_25_5...</td>\n      <td>21</td>\n      <td>21</td>\n      <td>0</td>\n      <td>0</td>\n      <td>0</td>\n      <td>0.0</td>\n      <td>0.0</td>\n      <td>S25-5</td>\n    </tr>\n    <tr>\n      <th>...</th>\n      <td>...</td>\n      <td>...</td>\n      <td>...</td>\n      <td>...</td>\n      <td>...</td>\n      <td>...</td>\n      <td>...</td>\n      <td>...</td>\n      <td>...</td>\n      <td>...</td>\n    </tr>\n    <tr>\n      <th>5035</th>\n      <td>../data/sealevel_experiments_paper/s_41/s_41_5...</td>\n      <td>../data/sealevel_experiments_paper/s_41/s_41_5...</td>\n      <td>18</td>\n      <td>18</td>\n      <td>0</td>\n      <td>0</td>\n      <td>0</td>\n      <td>0.0</td>\n      <td>0.0</td>\n      <td>S41-5</td>\n    </tr>\n    <tr>\n      <th>5036</th>\n      <td>../data/sealevel_experiments_paper/s_41/s_41_5...</td>\n      <td>../data/sealevel_experiments_paper/s_41/s_41_5...</td>\n      <td>29</td>\n      <td>28</td>\n      <td>76511</td>\n      <td>1444612</td>\n      <td>55446867</td>\n      <td>0.0</td>\n      <td>0.0</td>\n      <td>S41-5</td>\n    </tr>\n    <tr>\n      <th>5037</th>\n      <td>../data/sealevel_experiments_paper/s_41/s_41_5...</td>\n      <td>../data/sealevel_experiments_paper/s_41/s_41_5...</td>\n      <td>22</td>\n      <td>22</td>\n      <td>0</td>\n      <td>0</td>\n      <td>0</td>\n      <td>0.0</td>\n      <td>0.0</td>\n      <td>S41-5</td>\n    </tr>\n    <tr>\n      <th>5038</th>\n      <td>../data/sealevel_experiments_paper/s_41/s_41_5...</td>\n      <td>../data/sealevel_experiments_paper/s_41/s_41_5...</td>\n      <td>28</td>\n      <td>27</td>\n      <td>15955</td>\n      <td>240006</td>\n      <td>10336252</td>\n      <td>48000.0</td>\n      <td>192006.0</td>\n      <td>S41-5</td>\n    </tr>\n    <tr>\n      <th>5039</th>\n      <td>../data/sealevel_experiments_paper/s_41/s_41_5...</td>\n      <td>../data/sealevel_experiments_paper/s_41/s_41_5...</td>\n      <td>27</td>\n      <td>27</td>\n      <td>0</td>\n      <td>0</td>\n      <td>0</td>\n      <td>0.0</td>\n      <td>0.0</td>\n      <td>S41-5</td>\n    </tr>\n  </tbody>\n</table>\n<p>5040 rows × 10 columns</p>\n</div>"
     },
     "execution_count": 4,
     "metadata": {},
     "output_type": "execute_result"
    }
   ],
   "source": [
    "dR10C = load_data(\"../random_experiments_paper/n_10/results_combined.csv\", 'R10')\n",
    "dR15C = load_data(\"../random_experiments_paper/n_15/results_combined.csv\", 'R15')\n",
    "dR20C = load_data(\"../random_experiments_paper/n_20/results_combined.csv\", 'R20')\n",
    "dR25C = load_data(\"../random_experiments_paper/n_25/results_combined.csv\", 'R25')\n",
    "dR30C = load_data(\"../random_experiments_paper/n_30/results_combined.csv\", 'R30')\n",
    "\n",
    "dS25_2C = load_data(\"../sealevel_experiments_paper/s_25/s_25_2/results_combined.csv\", 'S25-2')\n",
    "dS25_5C = load_data(\"../sealevel_experiments_paper/s_25/s_25_5/results_combined.csv\", 'S25-5')\n",
    "dS25_100C = load_data(\"../sealevel_experiments_paper/s_25/s_25_100/results_combined.csv\", 'S25-25')\n",
    "dS30_2C = load_data(\"../sealevel_experiments_paper/s_30/s_30_2/results_combined.csv\", 'S30-2')\n",
    "dS30_5C = load_data(\"../sealevel_experiments_paper/s_30/s_30_5/results_combined.csv\", 'S30-5')\n",
    "dS30_100C = load_data(\"../sealevel_experiments_paper/s_30/s_30_100/results_combined.csv\", 'S30-30')\n",
    "\n",
    "\n",
    "\n",
    "dS35_2C = load_data(\"../sealevel_experiments_paper/s_35/s_35_2/results_combined.csv\", 'S35-2')\n",
    "dS35_5C = load_data(\"../sealevel_experiments_paper/s_35/s_35_5/results_combined.csv\", 'S35-5')\n",
    "dS35_100C = load_data(\"../sealevel_experiments_paper/s_35/s_35_100/results_combined.csv\", 'S35-35')\n",
    "\n",
    "dS41_2C = load_data(\"../sealevel_experiments_paper/s_41/s_41_2/results_combined.csv\", 'S41-2')\n",
    "dS41_5C = load_data(\"../sealevel_experiments_paper/s_41/s_41_5/results_combined.csv\", 'S41-5')\n",
    "dS41_100C = load_data(\"../sealevel_experiments_paper/s_41/s_41_100/results_combined.csv\", 'S41-41')\n",
    "\n",
    "\n",
    "\n",
    "data_frames_r = [df for df in [dR10C, dR15C, dR20C, dR25C, dR30C] if df is not None]\n",
    "\n",
    "data_frames = [df for df in [ dS25_5C, dS25_100C, dS30_5C, dS30_100C\n",
    "                           , dS35_5C, dS35_100C, dS41_2C, dS41_5C, dS41_100C] if df is not None]\n",
    "\n",
    "\n",
    "data_frames_heuristic=[df for df in [ dS25_5C, dS25_2C, dS30_5C, dS30_2C\n",
    "                           , dS35_5C, dS35_2C, dS41_2C, dS41_5C] if df is not None]\n",
    "\n",
    "dHeuristic= pd.concat(data_frames_heuristic, ignore_index=True)\n",
    "\n",
    "dRC = pd.concat(data_frames_r, ignore_index=True)\n",
    "dRC['Type'] = 'A$_C$'\n",
    "dRC['runtime'] = dRC['runtime'] + 1\n",
    "\n",
    "\n",
    "dSC = pd.concat(data_frames, ignore_index=True)\n",
    "dSC['Type'] = 'A$_C$'\n",
    "dSC['runtime'] = dSC['runtime'] + 1\n",
    "\n",
    "\n",
    "dHeuristic"
   ]
  },
  {
   "cell_type": "code",
   "execution_count": 5,
   "metadata": {
    "ExecuteTime": {
     "end_time": "2024-02-09T13:08:07.492371785Z",
     "start_time": "2024-02-09T13:08:07.350064846Z"
    }
   },
   "outputs": [],
   "source": [
    "dR10R = load_data(\"../random_experiments_paper/n_10/results_rootcombined.csv\", 'R10')\n",
    "dR15R = load_data(\"../random_experiments_paper/n_15/results_rootcombined.csv\", 'R15')\n",
    "dR20R = load_data(\"../random_experiments_paper/n_20/results_rootcombined.csv\", 'R20')\n",
    "dR25R = load_data(\"../random_experiments_paper/n_25/results_rootcombined.csv\", 'R25')\n",
    "dR30R = load_data(\"../random_experiments_paper/n_30/results_rootcombined.csv\", 'R30')\n",
    "\n",
    "dS25_2R = load_data(\"../sealevel_experiments_paper/s_25/s_25_2/results_rootcombined.csv\", 'S25-2')\n",
    "dS25_5R = load_data(\"../sealevel_experiments_paper/s_25/s_25_5/results_rootcombined.csv\", 'S25-5')\n",
    "dS25_100R = load_data(\"../sealevel_experiments_paper/s_25/s_25_100/results_rootcombined.csv\", 'S25-25')\n",
    "dS30_2R = load_data(\"../sealevel_experiments_paper/s_30/s_30_2/results_rootcombined.csv\", 'S30-2')\n",
    "dS30_5R = load_data(\"../sealevel_experiments_paper/s_30/s_30_5/results_rootcombined.csv\", 'S30-5')\n",
    "dS30_100R = load_data(\"../sealevel_experiments_paper/s_30/s_30_100/results_rootcombined.csv\", 'S30-30')\n",
    "\n",
    "\n",
    "dS35_2R = load_data(\"../sealevel_experiments_paper/s_35/s_35_2/results_rootcombined.csv\", 'S35-2')\n",
    "dS35_5R = load_data(\"../sealevel_experiments_paper/s_35/s_35_5/results_rootcombined.csv\", 'S35-5')\n",
    "dS35_100R = load_data(\"../sealevel_experiments_paper/s_35/s_35_100/results_rootcombined.csv\", 'S35-35')\n",
    "\n",
    "dS41_2R = load_data(\"../sealevel_experiments_paper/s_41/s_41_2/results_rootcombined.csv\", 'S41-2')\n",
    "dS41_5R = load_data(\"../sealevel_experiments_paper/s_41/s_41_5/results_rootcombined.csv\", 'S41-5')\n",
    "dS41_100R = load_data(\"../sealevel_experiments_paper/s_41/s_41_100/results_rootcombined.csv\", 'S41-41')\n",
    "\n",
    "\n",
    "data_frames_r = [df for df in [dR10R, dR15R, dR20R, dR25R, dR30R] if df is not None]\n",
    "\n",
    "data_frames = [df for df in [ dS25_5R, dS25_100R,  dS30_5R, dS30_100R\n",
    "                           , dS35_5R, dS35_100R, dS41_2R, dS41_5R, dS41_100R] if df is not None]\n",
    "\n",
    "\n",
    "\n",
    "dRR = pd.concat(data_frames_r, ignore_index=True)\n",
    "dRR['Type'] = 'A$_R$'\n",
    "dRR['runtime'] = dRR['runtime'] + 1\n",
    "\n",
    "dSR = pd.concat(data_frames, ignore_index=True)\n",
    "dSR['Type'] = 'A$_R$'\n",
    "dSR['runtime'] = dSR['runtime'] + 1\n",
    "\n",
    "\n"
   ]
  },
  {
   "cell_type": "code",
   "execution_count": 6,
   "metadata": {
    "ExecuteTime": {
     "end_time": "2024-02-09T13:08:07.581140406Z",
     "start_time": "2024-02-09T13:08:07.435918292Z"
    }
   },
   "outputs": [],
   "source": [
    "dR10H = load_data(\"../random_experiments_paper/n_10/results_heuristic.csv\", 'R10')\n",
    "dR15H = load_data(\"../random_experiments_paper/n_15/results_heuristic.csv\", 'R15')\n",
    "dR20H = load_data(\"../random_experiments_paper/n_20/results_heuristic.csv\", 'R20')\n",
    "dR25H = load_data(\"../random_experiments_paper/n_25/results_heuristic.csv\", 'R25')\n",
    "dR30H = load_data(\"../random_experiments_paper/n_30/results_heuristic.csv\", 'R30')\n",
    "\n",
    "dS25_2H = load_data(\"../sealevel_experiments_paper/s_25/s_25_2/results_heuristic.csv\", 'S25-2')\n",
    "dS25_5H = load_data(\"../sealevel_experiments_paper/s_25/s_25_5/results_heuristic.csv\", 'S25-5')\n",
    "dS25_100H = load_data(\"../sealevel_experiments_paper/s_25/s_25_100/results_heuristic.csv\", 'S25-25')\n",
    "dS30_2H = load_data(\"../sealevel_experiments_paper/s_30/s_30_2/results_heuristic.csv\", 'S30-2')\n",
    "dS30_5H = load_data(\"../sealevel_experiments_paper/s_30/s_30_5/results_heuristic.csv\", 'S30-5')\n",
    "dS30_100H = load_data(\"../sealevel_experiments_paper/s_30/s_30_100/results_heuristic.csv\", 'S30-30')\n",
    "\n",
    "\n",
    "dS35_2H = load_data(\"../sealevel_experiments_paper/s_35/s_35_2/results_heuristic.csv\", 'S35-2')\n",
    "dS35_5H = load_data(\"../sealevel_experiments_paper/s_35/s_35_5/results_heuristic.csv\", 'S35-5')\n",
    "dS35_100H = load_data(\"../sealevel_experiments_paper/s_35/s_35_100/results_heuristic.csv\", 'S35-35')\n",
    "\n",
    "dS41_2H = load_data(\"../sealevel_experiments_paper/s_41/s_41_2/results_heuristic.csv\", 'S41-2')\n",
    "dS41_5H = load_data(\"../sealevel_experiments_paper/s_41/s_41_5/results_heuristic.csv\", 'S41-5')\n",
    "dS41_100H = load_data(\"../sealevel_experiments_paper/s_41/s_41_100/results_heuristic.csv\", 'S41-41')\n",
    "\n",
    "\n",
    "data_frames_r = [df for df in [dR10H, dR15H, dR20H, dR25H, dR30H] if df is not None]\n",
    "\n",
    "\n",
    "data_frames = [df for df in [ dS25_5H, dS25_100H, dS30_5H, dS30_100H\n",
    "                           , dS35_5H, dS35_100H, dS41_2H, dS41_5H, dS41_100H] if df is not None]\n",
    "\n",
    "\n",
    "dRH = pd.concat(data_frames_r, ignore_index=True)\n",
    "\n",
    "dSH = pd.concat(data_frames, ignore_index=True)\n",
    "\n"
   ]
  },
  {
   "cell_type": "code",
   "execution_count": 7,
   "metadata": {
    "ExecuteTime": {
     "end_time": "2024-02-09T13:08:07.824901421Z",
     "start_time": "2024-02-09T13:08:07.518957796Z"
    }
   },
   "outputs": [],
   "source": [
    "dR10I = load_data(\"../random_experiments_paper/n_10/results_ilp.csv\", 'R10')\n",
    "dR15I = load_data(\"../random_experiments_paper/n_15/results_ilp.csv\", 'R15')\n",
    "dR20I = load_data(\"../random_experiments_paper/n_20/results_ilp.csv\", 'R20')\n",
    "dR25I = load_data(\"../random_experiments_paper/n_25/results_ilp.csv\", 'R25')\n",
    "dR30I = load_data(\"../random_experiments_paper/n_30/results_ilp.csv\", 'R30')\n",
    "\n",
    "\n",
    "\n",
    "dS25_2I = load_data(\"../sealevel_experiments_paper/s_25/s_25_2/results_ilp.csv\", 'S25-2')\n",
    "dS25_5I = load_data(\"../sealevel_experiments_paper/s_25/s_25_5/results_ilp.csv\", 'S25-5')\n",
    "dS25_100I = load_data(\"../sealevel_experiments_paper/s_25/s_25_100/results_ilp.csv\", 'S25-25')\n",
    "\n",
    "dS30_2I = load_data(\"../sealevel_experiments_paper/s_30/s_30_2/results_ilp.csv\", 'S30-2')\n",
    "dS30_5I = load_data(\"../sealevel_experiments_paper/s_30/s_30_5/results_ilp.csv\", 'S30-5')\n",
    "dS30_100I = load_data(\"../sealevel_experiments_paper/s_30/s_30_100/results_ilp.csv\", 'S30-30')\n",
    "\n",
    "dS35_2I = load_data(\"../sealevel_experiments_paper/s_35/s_35_2/results_ilp.csv\", 'S35-2')\n",
    "dS35_5I = load_data(\"../sealevel_experiments_paper/s_35/s_35_5/results_ilp.csv\", 'S35-5')\n",
    "dS35_100I = load_data(\"../sealevel_experiments_paper/s_35/s_35_100/results_ilp.csv\", 'S35-35')\n",
    "\n",
    "dS41_2I = load_data(\"../sealevel_experiments_paper/s_41/s_41_2/results_ilp.csv\", 'S41-2')\n",
    "dS41_5I = load_data(\"../sealevel_experiments_paper/s_41/s_41_5/results_ilp.csv\", 'S41-5')\n",
    "dS41_100I = load_data(\"../sealevel_experiments_paper/s_41/s_41_100/results_ilp.csv\", 'S41-41')\n",
    "\n",
    "\n",
    "data_frames_r = [df for df in [dR10I, dR15I, dR20I, dR25I, dR30I] if df is not None]\n",
    "\n",
    "data_frames = [df for df in [ dS25_5I, dS25_100I,  dS30_5I, dS30_100I\n",
    "                           , dS35_5I, dS35_100I, dS41_2I, dS41_5I, dS41_100I] if df is not None]\n",
    "\n",
    "\n",
    "dRI = pd.concat(data_frames_r, ignore_index=True)\n",
    "dRI['Type'] = 'ILP'\n",
    "dRI['runtime'] = dRI['runtime'] + 1\n",
    "\n",
    "dSI = pd.concat(data_frames, ignore_index=True)\n",
    "dSI['Type'] = 'ILP'\n",
    "dSI['runtime'] = dSI['runtime'] + 1\n",
    "\n"
   ]
  },
  {
   "cell_type": "code",
   "outputs": [],
   "source": [
    "dR10B = load_data(\"../random_experiments_paper/n_10/results_bfs.csv\", 'R10')\n",
    "dR15B = load_data(\"../random_experiments_paper/n_15/results_bfs.csv\", 'R15')\n",
    "dR20B = load_data(\"../random_experiments_paper/n_20/results_bfs.csv\", 'R20')\n",
    "dR25B = load_data(\"../random_experiments_paper/n_25/results_bfs.csv\", 'R25')\n",
    "dR30B = load_data(\"../random_experiments_paper/n_30/results_bfs.csv\", 'R30')\n",
    "\n",
    "dS25_2B = load_data(\"../sealevel_experiments_paper/s_25/s_25_2/results_bfs.csv\", 'S25-2')\n",
    "dS25_5B = load_data(\"../sealevel_experiments_paper/s_25/s_25_5/results_bfs.csv\", 'S25-5')\n",
    "dS25_100B = load_data(\"../sealevel_experiments_paper/s_25/s_25_100/results_bfs.csv\", 'S25-25')\n",
    "\n",
    "dS30_2B = load_data(\"../sealevel_experiments_paper/s_30/s_30_2/results_bfs.csv\", 'S30-2')\n",
    "dS30_5B = load_data(\"../sealevel_experiments_paper/s_30/s_30_5/results_bfs.csv\", 'S30-5')\n",
    "dS30_100B = load_data(\"../sealevel_experiments_paper/s_30/s_30_100/results_bfs.csv\", 'S30-30')\n",
    "\n",
    "dS35_2B = load_data(\"../sealevel_experiments_paper/s_35/s_35_2/results_bfs.csv\", 'S35-2')\n",
    "dS35_5B = load_data(\"../sealevel_experiments_paper/s_35/s_35_5/results_bfs.csv\", 'S35-5')\n",
    "dS35_100B = load_data(\"../sealevel_experiments_paper/s_35/s_35_100/results_bfs.csv\", 'S35-35')\n",
    "\n",
    "dS41_2B = load_data(\"../sealevel_experiments_paper/s_41/s_41_2/results_bfs.csv\", 'S41-2')\n",
    "dS41_5B = load_data(\"../sealevel_experiments_paper/s_41/s_41_5/results_bfs.csv\", 'S41-5')\n",
    "dS41_100B = load_data(\"../sealevel_experiments_paper/s_41/s_41_100/results_bfs.csv\", 'S41-41')\n",
    "\n",
    "data_frames_r = [df for df in [dR10B, dR15B, dR20B, dR25B, dR30B] if df is not None]\n",
    "\n",
    "data_frames = [df for df in [ dS25_5B, dS25_100B,  dS30_5B, dS30_100B\n",
    "                           , dS35_5B, dS35_100B, dS41_2B, dS41_5B, dS41_100B] if df is not None]\n",
    "\n",
    "\n",
    "\n",
    "dRB = pd.concat(data_frames_r, ignore_index=True)\n",
    "dRB['Type'] = 'BFS'\n",
    "dRB['runtime'] = dRB['runtime'] + 1\n",
    "\n",
    "dSB = pd.concat(data_frames, ignore_index=True)\n",
    "dSB['Type'] = 'BFS'\n",
    "dSB['runtime'] = dSB['runtime'] + 1\n",
    "\n"
   ],
   "metadata": {
    "collapsed": false,
    "ExecuteTime": {
     "end_time": "2024-02-09T13:08:07.929295431Z",
     "start_time": "2024-02-09T13:08:07.659465326Z"
    }
   },
   "execution_count": 8
  },
  {
   "cell_type": "code",
   "outputs": [
    {
     "data": {
      "text/plain": "                                                  file1  \\\n0     ../data/sealevel_experiments_paper/s_25/s_25_5...   \n1     ../data/sealevel_experiments_paper/s_25/s_25_5...   \n2     ../data/sealevel_experiments_paper/s_25/s_25_5...   \n3     ../data/sealevel_experiments_paper/s_25/s_25_5...   \n4     ../data/sealevel_experiments_paper/s_25/s_25_5...   \n...                                                 ...   \n5035  ../data/sealevel_experiments_paper/s_41/s_41_5...   \n5036  ../data/sealevel_experiments_paper/s_41/s_41_5...   \n5037  ../data/sealevel_experiments_paper/s_41/s_41_5...   \n5038  ../data/sealevel_experiments_paper/s_41/s_41_5...   \n5039  ../data/sealevel_experiments_paper/s_41/s_41_5...   \n\n                                                  file2  flip  runtime  \\\n0     ../data/sealevel_experiments_paper/s_25/s_25_5...    16    0.509   \n1     ../data/sealevel_experiments_paper/s_25/s_25_5...    12    0.457   \n2     ../data/sealevel_experiments_paper/s_25/s_25_5...    12    0.427   \n3     ../data/sealevel_experiments_paper/s_25/s_25_5...    14    0.689   \n4     ../data/sealevel_experiments_paper/s_25/s_25_5...    21    0.801   \n...                                                 ...   ...      ...   \n5035  ../data/sealevel_experiments_paper/s_41/s_41_5...    18    1.026   \n5036  ../data/sealevel_experiments_paper/s_41/s_41_5...    29    0.968   \n5037  ../data/sealevel_experiments_paper/s_41/s_41_5...    22    0.948   \n5038  ../data/sealevel_experiments_paper/s_41/s_41_5...    28    1.056   \n5039  ../data/sealevel_experiments_paper/s_41/s_41_5...    27    0.810   \n\n      used_hanke  Unnamed: 5  Unnamed: 6   size  \n0              0         NaN         NaN  S25-5  \n1              0         NaN         NaN  S25-5  \n2              0         NaN         NaN  S25-5  \n3              0         NaN         NaN  S25-5  \n4              0         NaN         NaN  S25-5  \n...          ...         ...         ...    ...  \n5035           0         NaN         NaN  S41-5  \n5036           0         NaN         NaN  S41-5  \n5037           0         NaN         NaN  S41-5  \n5038           0         NaN         NaN  S41-5  \n5039           0         NaN         NaN  S41-5  \n\n[5040 rows x 8 columns]",
      "text/html": "<div>\n<style scoped>\n    .dataframe tbody tr th:only-of-type {\n        vertical-align: middle;\n    }\n\n    .dataframe tbody tr th {\n        vertical-align: top;\n    }\n\n    .dataframe thead th {\n        text-align: right;\n    }\n</style>\n<table border=\"1\" class=\"dataframe\">\n  <thead>\n    <tr style=\"text-align: right;\">\n      <th></th>\n      <th>file1</th>\n      <th>file2</th>\n      <th>flip</th>\n      <th>runtime</th>\n      <th>used_hanke</th>\n      <th>Unnamed: 5</th>\n      <th>Unnamed: 6</th>\n      <th>size</th>\n    </tr>\n  </thead>\n  <tbody>\n    <tr>\n      <th>0</th>\n      <td>../data/sealevel_experiments_paper/s_25/s_25_5...</td>\n      <td>../data/sealevel_experiments_paper/s_25/s_25_5...</td>\n      <td>16</td>\n      <td>0.509</td>\n      <td>0</td>\n      <td>NaN</td>\n      <td>NaN</td>\n      <td>S25-5</td>\n    </tr>\n    <tr>\n      <th>1</th>\n      <td>../data/sealevel_experiments_paper/s_25/s_25_5...</td>\n      <td>../data/sealevel_experiments_paper/s_25/s_25_5...</td>\n      <td>12</td>\n      <td>0.457</td>\n      <td>0</td>\n      <td>NaN</td>\n      <td>NaN</td>\n      <td>S25-5</td>\n    </tr>\n    <tr>\n      <th>2</th>\n      <td>../data/sealevel_experiments_paper/s_25/s_25_5...</td>\n      <td>../data/sealevel_experiments_paper/s_25/s_25_5...</td>\n      <td>12</td>\n      <td>0.427</td>\n      <td>0</td>\n      <td>NaN</td>\n      <td>NaN</td>\n      <td>S25-5</td>\n    </tr>\n    <tr>\n      <th>3</th>\n      <td>../data/sealevel_experiments_paper/s_25/s_25_5...</td>\n      <td>../data/sealevel_experiments_paper/s_25/s_25_5...</td>\n      <td>14</td>\n      <td>0.689</td>\n      <td>0</td>\n      <td>NaN</td>\n      <td>NaN</td>\n      <td>S25-5</td>\n    </tr>\n    <tr>\n      <th>4</th>\n      <td>../data/sealevel_experiments_paper/s_25/s_25_5...</td>\n      <td>../data/sealevel_experiments_paper/s_25/s_25_5...</td>\n      <td>21</td>\n      <td>0.801</td>\n      <td>0</td>\n      <td>NaN</td>\n      <td>NaN</td>\n      <td>S25-5</td>\n    </tr>\n    <tr>\n      <th>...</th>\n      <td>...</td>\n      <td>...</td>\n      <td>...</td>\n      <td>...</td>\n      <td>...</td>\n      <td>...</td>\n      <td>...</td>\n      <td>...</td>\n    </tr>\n    <tr>\n      <th>5035</th>\n      <td>../data/sealevel_experiments_paper/s_41/s_41_5...</td>\n      <td>../data/sealevel_experiments_paper/s_41/s_41_5...</td>\n      <td>18</td>\n      <td>1.026</td>\n      <td>0</td>\n      <td>NaN</td>\n      <td>NaN</td>\n      <td>S41-5</td>\n    </tr>\n    <tr>\n      <th>5036</th>\n      <td>../data/sealevel_experiments_paper/s_41/s_41_5...</td>\n      <td>../data/sealevel_experiments_paper/s_41/s_41_5...</td>\n      <td>29</td>\n      <td>0.968</td>\n      <td>0</td>\n      <td>NaN</td>\n      <td>NaN</td>\n      <td>S41-5</td>\n    </tr>\n    <tr>\n      <th>5037</th>\n      <td>../data/sealevel_experiments_paper/s_41/s_41_5...</td>\n      <td>../data/sealevel_experiments_paper/s_41/s_41_5...</td>\n      <td>22</td>\n      <td>0.948</td>\n      <td>0</td>\n      <td>NaN</td>\n      <td>NaN</td>\n      <td>S41-5</td>\n    </tr>\n    <tr>\n      <th>5038</th>\n      <td>../data/sealevel_experiments_paper/s_41/s_41_5...</td>\n      <td>../data/sealevel_experiments_paper/s_41/s_41_5...</td>\n      <td>28</td>\n      <td>1.056</td>\n      <td>0</td>\n      <td>NaN</td>\n      <td>NaN</td>\n      <td>S41-5</td>\n    </tr>\n    <tr>\n      <th>5039</th>\n      <td>../data/sealevel_experiments_paper/s_41/s_41_5...</td>\n      <td>../data/sealevel_experiments_paper/s_41/s_41_5...</td>\n      <td>27</td>\n      <td>0.810</td>\n      <td>0</td>\n      <td>NaN</td>\n      <td>NaN</td>\n      <td>S41-5</td>\n    </tr>\n  </tbody>\n</table>\n<p>5040 rows × 8 columns</p>\n</div>"
     },
     "execution_count": 9,
     "metadata": {},
     "output_type": "execute_result"
    }
   ],
   "source": [
    "dS25_2D = load_data(\"../sealevel_experiments_paper/s_25/s_25_2/results_decomposition.csv\", 'S25-2')\n",
    "dS25_5D = load_data(\"../sealevel_experiments_paper/s_25/s_25_5/results_decomposition.csv\", 'S25-5')\n",
    "dS30_2D = load_data(\"../sealevel_experiments_paper/s_30/s_30_2/results_decomposition.csv\", 'S30-2')\n",
    "dS30_5D = load_data(\"../sealevel_experiments_paper/s_30/s_30_5/results_decomposition.csv\", 'S30-5')\n",
    "dS30_100D = load_data(\"../sealevel_experiments_paper/s_30/s_30_100/results_decomposition.csv\", 'S30-30')\n",
    "\n",
    "\n",
    "\n",
    "dS35_2D = load_data(\"../sealevel_experiments_paper/s_35/s_35_2/results_decomposition.csv\", 'S35-2')\n",
    "dS35_5D = load_data(\"../sealevel_experiments_paper/s_35/s_35_5/results_decomposition.csv\", 'S35-5')\n",
    "dS35_100D = load_data(\"../sealevel_experiments_paper/s_35/s_35_100/results_decomposition.csv\", 'S35-35')\n",
    "\n",
    "dS41_2D = load_data(\"../sealevel_experiments_paper/s_41/s_41_2/results_decomposition.csv\", 'S41-2')\n",
    "dS41_5D = load_data(\"../sealevel_experiments_paper/s_41/s_41_5/results_decomposition.csv\", 'S41-5')\n",
    "dS41_100D = load_data(\"../sealevel_experiments_paper/s_41/s_41_100/results_decomposition.csv\", 'S41-41')\n",
    "\n",
    "data_frames_decomposition=[df for df in [ dS25_5D, dS25_2D, dS30_5D, dS30_2D\n",
    "                           , dS35_5D, dS35_2D, dS41_2D, dS41_5D] if df is not None]\n",
    "\n",
    "dDecomposition= pd.concat(data_frames_decomposition, ignore_index=True)\n",
    "dDecomposition"
   ],
   "metadata": {
    "collapsed": false,
    "ExecuteTime": {
     "end_time": "2024-02-09T13:08:07.991077478Z",
     "start_time": "2024-02-09T13:08:07.786017199Z"
    }
   },
   "execution_count": 9
  },
  {
   "cell_type": "code",
   "execution_count": 10,
   "metadata": {
    "ExecuteTime": {
     "end_time": "2024-02-09T13:08:07.993726619Z",
     "start_time": "2024-02-09T13:08:07.830534097Z"
    }
   },
   "outputs": [],
   "source": [
    "#intializing timeouts\n",
    "\n",
    "dRE['timeout'] = dRE['flip']<0\n",
    "dRS['timeout'] = dRS['flip']<0\n",
    "dRC['timeout'] = dRC['flip']<0\n",
    "dRR['timeout'] = dRR['flip']<0\n",
    "dRI['timeout'] = dRI['flip']<=0\n",
    "dRB['timeout'] = dRB['flip']<0\n",
    "\n",
    "dRB.loc[dRB['timeout'], 'runtime'] = 300000\n",
    "\n",
    "dSE['timeout'] = dSE['flip']<0\n",
    "dSS['timeout'] = dSS['flip']<0\n",
    "dSC['timeout'] = dSC['flip']<0\n",
    "dSR['timeout'] = dSR['flip']<0\n",
    "dSI['timeout'] = dSI['flip']<=0\n",
    "dSB['timeout'] = dSB['flip']<0\n",
    "\n",
    "dSB.loc[dSB['timeout'], 'runtime'] = 300000\n",
    "\n"
   ]
  },
  {
   "cell_type": "code",
   "execution_count": 11,
   "metadata": {
    "ExecuteTime": {
     "end_time": "2024-02-09T13:08:08.047234099Z",
     "start_time": "2024-02-09T13:08:07.873917604Z"
    }
   },
   "outputs": [
    {
     "data": {
      "text/plain": "                                                  file1  \\\n0     ../data/random_experiments_paper/n_15/set_0/tr...   \n1     ../data/random_experiments_paper/n_15/set_0/tr...   \n2     ../data/random_experiments_paper/n_15/set_0/tr...   \n3     ../data/random_experiments_paper/n_15/set_0/tr...   \n4     ../data/random_experiments_paper/n_15/set_0/tr...   \n...                                                 ...   \n5695  ../data/random_experiments_paper/n_30/set_4/tr...   \n5696  ../data/random_experiments_paper/n_30/set_4/tr...   \n5697  ../data/random_experiments_paper/n_30/set_4/tr...   \n5698  ../data/random_experiments_paper/n_30/set_4/tr...   \n5699  ../data/random_experiments_paper/n_30/set_4/tr...   \n\n                                                  file2  flip  \n0     ../data/random_experiments_paper/n_15/set_0/tr...    17  \n1     ../data/random_experiments_paper/n_15/set_0/tr...    10  \n2     ../data/random_experiments_paper/n_15/set_0/tr...     9  \n3     ../data/random_experiments_paper/n_15/set_0/tr...    20  \n4     ../data/random_experiments_paper/n_15/set_0/tr...    14  \n...                                                 ...   ...  \n5695  ../data/random_experiments_paper/n_30/set_4/tr...   -49  \n5696  ../data/random_experiments_paper/n_30/set_4/tr...   -41  \n5697  ../data/random_experiments_paper/n_30/set_4/tr...   -51  \n5698  ../data/random_experiments_paper/n_30/set_4/tr...    39  \n5699  ../data/random_experiments_paper/n_30/set_4/tr...   -43  \n\n[5700 rows x 3 columns]",
      "text/html": "<div>\n<style scoped>\n    .dataframe tbody tr th:only-of-type {\n        vertical-align: middle;\n    }\n\n    .dataframe tbody tr th {\n        vertical-align: top;\n    }\n\n    .dataframe thead th {\n        text-align: right;\n    }\n</style>\n<table border=\"1\" class=\"dataframe\">\n  <thead>\n    <tr style=\"text-align: right;\">\n      <th></th>\n      <th>file1</th>\n      <th>file2</th>\n      <th>flip</th>\n    </tr>\n  </thead>\n  <tbody>\n    <tr>\n      <th>0</th>\n      <td>../data/random_experiments_paper/n_15/set_0/tr...</td>\n      <td>../data/random_experiments_paper/n_15/set_0/tr...</td>\n      <td>17</td>\n    </tr>\n    <tr>\n      <th>1</th>\n      <td>../data/random_experiments_paper/n_15/set_0/tr...</td>\n      <td>../data/random_experiments_paper/n_15/set_0/tr...</td>\n      <td>10</td>\n    </tr>\n    <tr>\n      <th>2</th>\n      <td>../data/random_experiments_paper/n_15/set_0/tr...</td>\n      <td>../data/random_experiments_paper/n_15/set_0/tr...</td>\n      <td>9</td>\n    </tr>\n    <tr>\n      <th>3</th>\n      <td>../data/random_experiments_paper/n_15/set_0/tr...</td>\n      <td>../data/random_experiments_paper/n_15/set_0/tr...</td>\n      <td>20</td>\n    </tr>\n    <tr>\n      <th>4</th>\n      <td>../data/random_experiments_paper/n_15/set_0/tr...</td>\n      <td>../data/random_experiments_paper/n_15/set_0/tr...</td>\n      <td>14</td>\n    </tr>\n    <tr>\n      <th>...</th>\n      <td>...</td>\n      <td>...</td>\n      <td>...</td>\n    </tr>\n    <tr>\n      <th>5695</th>\n      <td>../data/random_experiments_paper/n_30/set_4/tr...</td>\n      <td>../data/random_experiments_paper/n_30/set_4/tr...</td>\n      <td>-49</td>\n    </tr>\n    <tr>\n      <th>5696</th>\n      <td>../data/random_experiments_paper/n_30/set_4/tr...</td>\n      <td>../data/random_experiments_paper/n_30/set_4/tr...</td>\n      <td>-41</td>\n    </tr>\n    <tr>\n      <th>5697</th>\n      <td>../data/random_experiments_paper/n_30/set_4/tr...</td>\n      <td>../data/random_experiments_paper/n_30/set_4/tr...</td>\n      <td>-51</td>\n    </tr>\n    <tr>\n      <th>5698</th>\n      <td>../data/random_experiments_paper/n_30/set_4/tr...</td>\n      <td>../data/random_experiments_paper/n_30/set_4/tr...</td>\n      <td>39</td>\n    </tr>\n    <tr>\n      <th>5699</th>\n      <td>../data/random_experiments_paper/n_30/set_4/tr...</td>\n      <td>../data/random_experiments_paper/n_30/set_4/tr...</td>\n      <td>-43</td>\n    </tr>\n  </tbody>\n</table>\n<p>5700 rows × 3 columns</p>\n</div>"
     },
     "execution_count": 11,
     "metadata": {},
     "output_type": "execute_result"
    }
   ],
   "source": [
    "#finding solved instances\n",
    "\n",
    "known_flip_R1= pd.merge(dRE, dRS[['file1', 'file2', 'flip']], on=['file1', 'file2'], how='left',suffixes=('_x', '_y'))\n",
    "known_flip_R1['flip']=known_flip_R1[['flip_x', 'flip_y']].max(axis=1)\n",
    "known_flip_R1=known_flip_R1[['file1', 'file2', 'flip']]\n",
    "\n",
    "known_flip_R2= pd.merge(dRC, dRR[['file1', 'file2', 'flip']], on=['file1', 'file2'], how='left',suffixes=('_x', '_y'))\n",
    "known_flip_R2['flip']=known_flip_R2[['flip_x', 'flip_y']].max(axis=1)\n",
    "known_flip_R2=known_flip_R2[['file1', 'file2', 'flip']]\n",
    "\n",
    "known_flip_R= pd.merge(known_flip_R1, known_flip_R2[['file1', 'file2', 'flip']], on=['file1', 'file2'], how='left',suffixes=('_x', '_y'))\n",
    "known_flip_R['flip']=known_flip_R[['flip_x', 'flip_y']].max(axis=1)\n",
    "known_flip_R=known_flip_R[['file1', 'file2', 'flip']]\n",
    "\n",
    "\n",
    "known_flip_S1= pd.merge(dSE, dSS[['file1', 'file2', 'flip']], on=['file1', 'file2'], how='left',suffixes=('_x', '_y'))\n",
    "known_flip_S1['flip']=known_flip_S1[['flip_x', 'flip_y']].max(axis=1)\n",
    "known_flip_S1=known_flip_S1[['file1', 'file2', 'flip']]\n",
    "\n",
    "known_flip_S2= pd.merge(dSC, dSR[['file1', 'file2', 'flip']], on=['file1', 'file2'], how='left',suffixes=('_x', '_y'))\n",
    "known_flip_S2['flip']=known_flip_S2[['flip_x', 'flip_y']].max(axis=1)\n",
    "known_flip_S2=known_flip_S2[['file1', 'file2', 'flip']]\n",
    "\n",
    "known_flip_S= pd.merge(known_flip_S1, known_flip_S2[['file1', 'file2', 'flip']], on=['file1', 'file2'], how='left',suffixes=('_x', '_y'))\n",
    "known_flip_S['flip']=known_flip_S[['flip_x', 'flip_y']].max(axis=1)\n",
    "known_flip_S=known_flip_S[['file1', 'file2', 'flip']]\n",
    "\n",
    "known_flip_R\n",
    "\n",
    "\n"
   ]
  },
  {
   "cell_type": "code",
   "execution_count": 12,
   "metadata": {
    "ExecuteTime": {
     "end_time": "2024-02-09T13:08:08.103084266Z",
     "start_time": "2024-02-09T13:08:07.907182813Z"
    }
   },
   "outputs": [],
   "source": [
    "#adding known flipdistance for plotting later even if the algorithm timed out\n",
    "\n",
    "dRE.rename(columns={'flip':'flip_self'},inplace=True)\n",
    "dRS.rename(columns={'flip':'flip_self'},inplace=True)\n",
    "dRC.rename(columns={'flip':'flip_self'},inplace=True)\n",
    "dRR.rename(columns={'flip':'flip_self'},inplace=True)\n",
    "\n",
    "dRI.rename(columns={'flip':'flip_self'},inplace=True)\n",
    "dRB.rename(columns={'flip':'flip_self'},inplace=True)\n",
    "\n",
    "\n",
    "\n",
    "dRE=pd.merge(dRE,known_flip_R, on=['file1', 'file2'], how='left')\n",
    "dRS=pd.merge(dRS,known_flip_R, on=['file1', 'file2'], how='left')\n",
    "dRC=pd.merge(dRC,known_flip_R, on=['file1', 'file2'], how='left')\n",
    "dRR=pd.merge(dRR,known_flip_R, on=['file1', 'file2'], how='left')\n",
    "\n",
    "dRI=pd.merge(dRI,known_flip_R, on=['file1', 'file2'], how='left')\n",
    "dRB=pd.merge(dRB,known_flip_R, on=['file1', 'file2'], how='left')\n",
    "\n",
    "\n",
    "\n",
    "\n",
    "\n",
    "dSE.rename(columns={'flip':'flip_self'},inplace=True)\n",
    "dSS.rename(columns={'flip':'flip_self'},inplace=True)\n",
    "dSC.rename(columns={'flip':'flip_self'},inplace=True)\n",
    "dSR.rename(columns={'flip':'flip_self'},inplace=True)\n",
    "\n",
    "dSI.rename(columns={'flip':'flip_self'},inplace=True)\n",
    "dSB.rename(columns={'flip':'flip_self'},inplace=True)\n",
    "\n",
    "\n",
    "\n",
    "dSI=pd.merge(dSI,known_flip_S, on=['file1', 'file2'], how='left')\n",
    "dSB=pd.merge(dSB,known_flip_S, on=['file1', 'file2'], how='left')\n",
    "\n",
    "dSE=pd.merge(dSE,known_flip_S, on=['file1', 'file2'], how='left')\n",
    "dSS=pd.merge(dSS,known_flip_S, on=['file1', 'file2'], how='left')\n",
    "dSC=pd.merge(dSC,known_flip_S, on=['file1', 'file2'], how='left')\n",
    "dSR=pd.merge(dSR,known_flip_S, on=['file1', 'file2'], how='left')\n",
    "\n"
   ]
  },
  {
   "cell_type": "code",
   "execution_count": 13,
   "metadata": {
    "ExecuteTime": {
     "end_time": "2024-02-09T13:08:08.214384960Z",
     "start_time": "2024-02-09T13:08:07.978605851Z"
    }
   },
   "outputs": [],
   "source": [
    "#adding heuristics for plotting\n",
    "\n",
    "dRE=pd.merge(dRE,dRH[['file1', 'file2', 'size','simple','hanke','eppstein']], on=['file1', 'file2','size'], how='left')\n",
    "dRS=pd.merge(dRS,dRH[['file1', 'file2', 'size','simple','hanke','eppstein']], on=['file1', 'file2','size'], how='left')\n",
    "dRC=pd.merge(dRC,dRH[['file1', 'file2', 'size','simple','hanke','eppstein']], on=['file1', 'file2','size'], how='left')\n",
    "dRR=pd.merge(dRR,dRH[['file1', 'file2', 'size','simple','hanke','eppstein']], on=['file1', 'file2','size'], how='left')\n",
    "\n",
    "dRI=pd.merge(dRI,dRH[['file1', 'file2', 'size','simple','hanke','eppstein']], on=['file1', 'file2','size'], how='left')\n",
    "dRB=pd.merge(dRB,dRH[['file1', 'file2', 'size','simple','hanke','eppstein']], on=['file1', 'file2','size'], how='left')\n",
    "\n",
    "\n",
    "dSE=pd.merge(dSE,dSH[['file1', 'file2', 'size','simple','hanke','eppstein']], on=['file1', 'file2','size'], how='left')\n",
    "dSS=pd.merge(dSS,dSH[['file1', 'file2', 'size','simple','hanke','eppstein']], on=['file1', 'file2','size'], how='left')\n",
    "dSC=pd.merge(dSC,dSH[['file1', 'file2', 'size','simple','hanke','eppstein']], on=['file1', 'file2','size'], how='left')\n",
    "dSR=pd.merge(dSR,dSH[['file1', 'file2', 'size','simple','hanke','eppstein']], on=['file1', 'file2','size'], how='left')\n",
    "\n",
    "dSI=pd.merge(dSI,dSH[['file1', 'file2', 'size','simple','hanke','eppstein']], on=['file1', 'file2','size'], how='left')\n",
    "dSB=pd.merge(dSB,dSH[['file1', 'file2', 'size','simple','hanke','eppstein']], on=['file1', 'file2','size'], how='left')\n",
    "\n",
    "\n"
   ]
  },
  {
   "cell_type": "code",
   "outputs": [],
   "source": [
    "#combining datasets\n",
    "\n",
    "dAS = pd.concat([dRS, dSS])\n",
    "dAE = pd.concat([dRE, dSE])\n",
    "dAC = pd.concat([dRC, dSC])\n",
    "dAR = pd.concat([dRR, dSR])\n",
    "dAI = pd.concat([dRI, dSI])\n",
    "dAB = pd.concat([dRB, dSB])\n",
    "\n",
    "\n",
    "\n"
   ],
   "metadata": {
    "collapsed": false,
    "ExecuteTime": {
     "end_time": "2024-02-09T13:08:08.341783161Z",
     "start_time": "2024-02-09T13:08:08.066190607Z"
    }
   },
   "execution_count": 14
  },
  {
   "cell_type": "code",
   "outputs": [
    {
     "data": {
      "text/plain": "size            R15   R20  R25  R30  S25-5  S30-5  S35-5  S41-2  S41-5  \\\nnr. instances  1900  1900  950  950    630    630    630    630    630   \nnone trivial    682   819  575  751     42    244    152    130    238   \n\nsize           S25-25  S30-30  S35-35  S41-41  \nnr. instances     276     276     276     276  \nnone trivial      187     214     267     271  ",
      "text/html": "<div>\n<style scoped>\n    .dataframe tbody tr th:only-of-type {\n        vertical-align: middle;\n    }\n\n    .dataframe tbody tr th {\n        vertical-align: top;\n    }\n\n    .dataframe thead th {\n        text-align: right;\n    }\n</style>\n<table border=\"1\" class=\"dataframe\">\n  <thead>\n    <tr style=\"text-align: right;\">\n      <th>size</th>\n      <th>R15</th>\n      <th>R20</th>\n      <th>R25</th>\n      <th>R30</th>\n      <th>S25-5</th>\n      <th>S30-5</th>\n      <th>S35-5</th>\n      <th>S41-2</th>\n      <th>S41-5</th>\n      <th>S25-25</th>\n      <th>S30-30</th>\n      <th>S35-35</th>\n      <th>S41-41</th>\n    </tr>\n  </thead>\n  <tbody>\n    <tr>\n      <th>nr. instances</th>\n      <td>1900</td>\n      <td>1900</td>\n      <td>950</td>\n      <td>950</td>\n      <td>630</td>\n      <td>630</td>\n      <td>630</td>\n      <td>630</td>\n      <td>630</td>\n      <td>276</td>\n      <td>276</td>\n      <td>276</td>\n      <td>276</td>\n    </tr>\n    <tr>\n      <th>none trivial</th>\n      <td>682</td>\n      <td>819</td>\n      <td>575</td>\n      <td>751</td>\n      <td>42</td>\n      <td>244</td>\n      <td>152</td>\n      <td>130</td>\n      <td>238</td>\n      <td>187</td>\n      <td>214</td>\n      <td>267</td>\n      <td>271</td>\n    </tr>\n  </tbody>\n</table>\n</div>"
     },
     "execution_count": 15,
     "metadata": {},
     "output_type": "execute_result"
    }
   ],
   "source": [
    "\n",
    "# Assuming dFData is your DataFrame\n",
    "dFData = pd.concat([dAE])\n",
    "\n",
    "dFData['delta_boundary'] = dFData['hanke'] - dFData['eppstein']\n",
    "dFData['trivial'] = (dFData['delta_boundary'] == 0).astype(int)\n",
    "\n",
    "# Count by type for all rows\n",
    "count_by_type = dFData['size'].value_counts()\n",
    "\n",
    "# Count by type for rows where 'trivial' is 1\n",
    "count_by_type_trivial_1 = dFData[dFData['trivial'] == 0]['size'].value_counts()\n",
    "\n",
    "# Create DataFrames from the series\n",
    "count_by_type_df = count_by_type.to_frame().reset_index().rename(columns={'index': 'size', 'size': 'nr. instances'})\n",
    "count_by_type_trivial_1_df = count_by_type_trivial_1.to_frame().reset_index().rename(columns={'index': 'size', 'size': 'none trivial'})\n",
    "\n",
    "# Merge on 'size'\n",
    "merged_counts = pd.merge(count_by_type_df, count_by_type_trivial_1_df, on='size', how='outer').fillna(0)\n",
    "\n",
    "# Transpose the merged_counts DataFrame and convert values to integers\n",
    "transposed_counts = merged_counts.set_index('size').transpose().astype(int)\n",
    "\n",
    "# Display the transposed DataFrame\n",
    "transposed_counts"
   ],
   "metadata": {
    "collapsed": false,
    "ExecuteTime": {
     "end_time": "2024-02-09T13:08:08.375639291Z",
     "start_time": "2024-02-09T13:08:08.118270961Z"
    }
   },
   "execution_count": 15
  },
  {
   "cell_type": "code",
   "outputs": [
    {
     "data": {
      "text/plain": "<Figure size 504x165.6 with 2 Axes>",
      "image/png": "[encoded data removed]"
     },
     "metadata": {},
     "output_type": "display_data"
    }
   ],
   "source": [
    "# Assuming dRS and dSS are your DataFrames\n",
    "dFData2_rs = pd.concat([dRS])\n",
    "dFData2_rs['db'] = dFData2_rs['hanke'] - dFData2_rs['eppstein']\n",
    "dFData2_rs['trivial'] = (dFData2_rs['db'] == 0).astype(int)\n",
    "\n",
    "# Filter rows where '$\\Delta B$' is greater than 0\n",
    "dFData2_rs = dFData2_rs[dFData2_rs['db'] > 0]\n",
    "dFData2_rs['$\\Delta b$'] = dFData2_rs['db'].apply(lambda x: str(x) if x < 9 else '≥ 9')\n",
    "\n",
    "# Assuming dSS is your DataFrame\n",
    "dFData2_ss = pd.concat([dSS])\n",
    "dFData2_ss = dFData2_ss[dFData2_ss['size'] != 'S25-2']\n",
    "dFData2_ss['db'] = dFData2_ss['hanke'] - dFData2_ss['eppstein']\n",
    "dFData2_ss['trivial'] = (dFData2_ss['db'] == 0).astype(int)\n",
    "\n",
    "# Filter rows where '$\\Delta B$' is greater than 0\n",
    "dFData2_ss = dFData2_ss[dFData2_ss['db'] > 0]\n",
    "dFData2_ss['$\\Delta b$'] = dFData2_ss['db'].apply(lambda x: str(x) if x < 9 else '≥ 9')\n",
    "\n",
    "# Define the desired order of 'size' for the second plot\n",
    "desired_order_ss = ['S41-2', 'S25-5', 'S30-5', 'S35-5', 'S41-5', 'S25-25', 'S30-30', 'S35-35', 'S41-41']\n",
    "\n",
    "# Create a subplot with 1 row and 2 columns with adjusted height\n",
    "fig, axes = plt.subplots(1, 2, figsize=(7, 2.3))  # Adjust the height (second parameter) as needed\n",
    "\n",
    "# Plot for the first DataFrame\n",
    "ax1 = dFData2_rs.groupby('size')['$\\Delta b$'].value_counts().unstack().plot(kind='bar', stacked=True, ax=axes[0])\n",
    "ax1.set_ylabel('nr. of instances')\n",
    "ax1.set(xlabel=None)\n",
    "ax1.legend(title='$\\Delta b$', bbox_to_anchor=(1.01, 1), loc='upper left')\n",
    "\n",
    "# Plot for the second DataFrame with specified order\n",
    "ax2 = dFData2_ss.groupby('size')['$\\Delta b$'].value_counts().unstack().loc[desired_order_ss].plot(kind='bar', stacked=True, ax=axes[1])\n",
    "\n",
    "# Move y-axis labels to the right\n",
    "ax2.yaxis.tick_right()\n",
    "ax2.set_ylabel('nr. of instances')\n",
    "ax2.set(xlabel=None)\n",
    "ax2.yaxis.set_label_position(\"right\")\n",
    "\n",
    "ax2.legend().set_visible(False)\n",
    "\n",
    "# Adjust layout to prevent clipping of labels\n",
    "plt.tight_layout()\n",
    "\n",
    "# Save the figure to a file (change filename and format as needed)\n",
    "plt.savefig('plots/instance_hardness.pdf', bbox_inches='tight')\n",
    "\n",
    "# Show the plot\n",
    "plt.show()"
   ],
   "metadata": {
    "collapsed": false,
    "ExecuteTime": {
     "end_time": "2024-02-09T13:08:09.305538324Z",
     "start_time": "2024-02-09T13:08:08.119505456Z"
    }
   },
   "execution_count": 16
  },
  {
   "cell_type": "code",
   "execution_count": 17,
   "metadata": {
    "scrolled": true,
    "ExecuteTime": {
     "end_time": "2024-02-09T13:08:09.406784452Z",
     "start_time": "2024-02-09T13:08:09.267496192Z"
    }
   },
   "outputs": [
    {
     "data": {
      "text/plain": "size     R15    R20     R25     R30  S25-25  S25-5  S30-30  S30-5  S35-35  \\\nType                                                                        \nA$_C$   0.00   0.00    6.78   72.70    8.02   0.00   42.99   0.00   79.03   \nA$_E$   0.00   0.00    8.17   75.63    9.09   0.00   50.00   0.82   83.15   \nA$_S$   0.00   0.73   30.09   89.08   23.53   0.00   65.42   0.82   88.76   \nBFS     0.00  81.43  100.00  100.00   98.93  57.14  100.00  99.18  100.00   \nILP    41.94  85.23   93.91   99.87   96.26  11.90   99.53  54.10  100.00   \n\nsize    S35-5  S41-2  S41-41   S41-5  \nType                                  \nA$_C$    0.66   0.00   99.63    8.40  \nA$_E$    1.32   0.00   99.63   17.65  \nA$_S$    0.66   0.00   99.63    8.82  \nBFS    100.00  97.69  100.00  100.00  \nILP     23.03   4.62  100.00   66.81  ",
      "text/html": "<div>\n<style scoped>\n    .dataframe tbody tr th:only-of-type {\n        vertical-align: middle;\n    }\n\n    .dataframe tbody tr th {\n        vertical-align: top;\n    }\n\n    .dataframe thead th {\n        text-align: right;\n    }\n</style>\n<table border=\"1\" class=\"dataframe\">\n  <thead>\n    <tr style=\"text-align: right;\">\n      <th>size</th>\n      <th>R15</th>\n      <th>R20</th>\n      <th>R25</th>\n      <th>R30</th>\n      <th>S25-25</th>\n      <th>S25-5</th>\n      <th>S30-30</th>\n      <th>S30-5</th>\n      <th>S35-35</th>\n      <th>S35-5</th>\n      <th>S41-2</th>\n      <th>S41-41</th>\n      <th>S41-5</th>\n    </tr>\n    <tr>\n      <th>Type</th>\n      <th></th>\n      <th></th>\n      <th></th>\n      <th></th>\n      <th></th>\n      <th></th>\n      <th></th>\n      <th></th>\n      <th></th>\n      <th></th>\n      <th></th>\n      <th></th>\n      <th></th>\n    </tr>\n  </thead>\n  <tbody>\n    <tr>\n      <th>A$_C$</th>\n      <td>0.00</td>\n      <td>0.00</td>\n      <td>6.78</td>\n      <td>72.70</td>\n      <td>8.02</td>\n      <td>0.00</td>\n      <td>42.99</td>\n      <td>0.00</td>\n      <td>79.03</td>\n      <td>0.66</td>\n      <td>0.00</td>\n      <td>99.63</td>\n      <td>8.40</td>\n    </tr>\n    <tr>\n      <th>A$_E$</th>\n      <td>0.00</td>\n      <td>0.00</td>\n      <td>8.17</td>\n      <td>75.63</td>\n      <td>9.09</td>\n      <td>0.00</td>\n      <td>50.00</td>\n      <td>0.82</td>\n      <td>83.15</td>\n      <td>1.32</td>\n      <td>0.00</td>\n      <td>99.63</td>\n      <td>17.65</td>\n    </tr>\n    <tr>\n      <th>A$_S$</th>\n      <td>0.00</td>\n      <td>0.73</td>\n      <td>30.09</td>\n      <td>89.08</td>\n      <td>23.53</td>\n      <td>0.00</td>\n      <td>65.42</td>\n      <td>0.82</td>\n      <td>88.76</td>\n      <td>0.66</td>\n      <td>0.00</td>\n      <td>99.63</td>\n      <td>8.82</td>\n    </tr>\n    <tr>\n      <th>BFS</th>\n      <td>0.00</td>\n      <td>81.43</td>\n      <td>100.00</td>\n      <td>100.00</td>\n      <td>98.93</td>\n      <td>57.14</td>\n      <td>100.00</td>\n      <td>99.18</td>\n      <td>100.00</td>\n      <td>100.00</td>\n      <td>97.69</td>\n      <td>100.00</td>\n      <td>100.00</td>\n    </tr>\n    <tr>\n      <th>ILP</th>\n      <td>41.94</td>\n      <td>85.23</td>\n      <td>93.91</td>\n      <td>99.87</td>\n      <td>96.26</td>\n      <td>11.90</td>\n      <td>99.53</td>\n      <td>54.10</td>\n      <td>100.00</td>\n      <td>23.03</td>\n      <td>4.62</td>\n      <td>100.00</td>\n      <td>66.81</td>\n    </tr>\n  </tbody>\n</table>\n</div>"
     },
     "execution_count": 17,
     "metadata": {},
     "output_type": "execute_result"
    }
   ],
   "source": [
    "#Timeouts:\n",
    "dF0 = pd.concat([dAB, dAI, dAS, dAE,dAC])\n",
    "dF0=dF0[dF0['eppstein'] -dF0['hanke']!=0]\n",
    "\n",
    "dF0 = dF0[[ 'Type', 'size', 'timeout']]\n",
    "\n",
    "\n",
    "# Create a pivot table to prepare the data\n",
    "pivot_df = dF0.pivot_table(index='Type', columns='size', values='timeout', aggfunc='sum')\n",
    "\n",
    "\n",
    "dF_t= pd.concat([dAB, dAI, dAS, dAE,dAC])\n",
    "dF_t=dF_t[dF_t['hanke'] != dF_t['eppstein']]\n",
    "dF_t = dF_t[[ 'Type', 'size', 'timeout']]\n",
    "size_counts = dF_t.groupby(['Type', 'size']).size().reset_index(name='count')\n",
    "pivot_table_size = size_counts.pivot(index='Type', columns='size', values='count').fillna(0)\n",
    "\n",
    "\n",
    "\n",
    "result_pivot = pivot_df.divide(pivot_table_size)\n",
    "result_pivot *= 100  # Convert to percentage\n",
    "result_pivot = result_pivot.round(2) \n",
    "\n",
    "result_pivot"
   ]
  },
  {
   "cell_type": "code",
   "outputs": [
    {
     "name": "stdout",
     "output_type": "stream",
     "text": [
      "size         R15        R20        R25       R30    S25-25    S25-5    S30-30  \\\n",
      "Type                                                                            \n",
      "A$_C$       4076     746620   16521566  16413689   4094489     1011   8394230   \n",
      "A$_E$       6738     952537   21940137  21178383   5248467     3609  11672348   \n",
      "A$_S$       8605    8095522   59085410  44540170  14237451     1380  18746261   \n",
      "BFS       331104   94070563  160800000  61500000  51455423  8193442  36600000   \n",
      "ILP    102593564  216782348  156183096  61479729  50367761  2060759  36350385   \n",
      "\n",
      "size      S30-5    S35-35     S35-5     S41-2  S41-41     S41-5  \n",
      "Type                                                             \n",
      "A$_C$   1863215   4696345    723778    119595   19443   7616850  \n",
      "A$_E$   3879584   6993845   1951479    351485   33853  16367907  \n",
      "A$_S$   3086477  10557167    712763    121623  132706   8573705  \n",
      "BFS    72903767  16800000  45300000  38164611  300000  65400000  \n",
      "ILP    47684888  16802834  21797705   9895842  300047  53433949  \n",
      "    Type    runtime\n",
      "0  A$_C$   61214907\n",
      "1  A$_E$   90580372\n",
      "2  A$_S$  167899240\n",
      "3    BFS  651818910\n",
      "4    ILP  775732907\n"
     ]
    }
   ],
   "source": [
    "#Overall accumalative runtime\n",
    "\n",
    "dFrt=pd.concat([dAB, dAI, dAS, dAE,dAC])\n",
    "\n",
    "dFrt = dFrt[dFrt['flip'] > -1]\n",
    "dFrt = dFrt[dFrt['hanke']!=dFrt['eppstein']]\n",
    "\n",
    "result = dFrt.pivot_table(index='Type', columns='size', values='runtime', aggfunc='sum')\n",
    "\n",
    "print(result)\n",
    "result2 = dFrt.groupby(['Type'])['runtime'].sum().reset_index()\n",
    "print(result2)\n"
   ],
   "metadata": {
    "collapsed": false,
    "ExecuteTime": {
     "end_time": "2024-02-09T13:08:09.472555592Z",
     "start_time": "2024-02-09T13:08:09.345509093Z"
    }
   },
   "execution_count": 18
  },
  {
   "cell_type": "code",
   "execution_count": 19,
   "metadata": {
    "scrolled": true,
    "ExecuteTime": {
     "end_time": "2024-02-09T13:08:11.600587807Z",
     "start_time": "2024-02-09T13:08:09.381309777Z"
    }
   },
   "outputs": [
    {
     "data": {
      "text/plain": "<Figure size 576x201.6 with 1 Axes>",
      "image/png": "[encoded data removed]"
     },
     "metadata": {},
     "output_type": "display_data"
    },
    {
     "data": {
      "text/plain": "                                                  file1  \\\n8     ../data/random_experiments_paper/n_15/set_0/tr...   \n19    ../data/random_experiments_paper/n_15/set_0/tr...   \n21    ../data/random_experiments_paper/n_15/set_0/tr...   \n25    ../data/random_experiments_paper/n_15/set_0/tr...   \n26    ../data/random_experiments_paper/n_15/set_0/tr...   \n...                                                 ...   \n3971  ../data/sealevel_experiments_paper/s_41/s_41_5...   \n3972  ../data/sealevel_experiments_paper/s_41/s_41_5...   \n3974  ../data/sealevel_experiments_paper/s_41/s_41_5...   \n3976  ../data/sealevel_experiments_paper/s_41/s_41_5...   \n4110  ../data/sealevel_experiments_paper/s_41/s_41_1...   \n\n                                                  file2  flip_self  runtime  \\\n8     ../data/random_experiments_paper/n_15/set_0/tr...         15    25137   \n19    ../data/random_experiments_paper/n_15/set_0/tr...         14    36431   \n21    ../data/random_experiments_paper/n_15/set_0/tr...         18     7673   \n25    ../data/random_experiments_paper/n_15/set_0/tr...        -19   300003   \n26    ../data/random_experiments_paper/n_15/set_0/tr...         19     4352   \n...                                                 ...        ...      ...   \n3971  ../data/sealevel_experiments_paper/s_41/s_41_5...         24    43517   \n3972  ../data/sealevel_experiments_paper/s_41/s_41_5...         26    11392   \n3974  ../data/sealevel_experiments_paper/s_41/s_41_5...         29   206006   \n3976  ../data/sealevel_experiments_paper/s_41/s_41_5...         28    33473   \n4110  ../data/sealevel_experiments_paper/s_41/s_41_1...         37    33853   \n\n      primal_bound    size          Type  timeout  flip  simple  hanke  \\\n8             15.0     R15           ILP    False    15      13     15   \n19            14.0     R15           ILP    False    14      12     14   \n21            18.0     R15           ILP    False    18      17     19   \n25           -20.0     R15           ILP     True    20      18     20   \n26            19.0     R15           ILP    False    19      18     19   \n...            ...     ...           ...      ...   ...     ...    ...   \n3971           NaN   S41-5  $ {A}^{*}_E$    False    24      22     24   \n3972           NaN   S41-5  $ {A}^{*}_E$    False    26      25     26   \n3974           NaN   S41-5  $ {A}^{*}_E$    False    29      28     29   \n3976           NaN   S41-5  $ {A}^{*}_E$    False    28      26     28   \n4110           NaN  S41-41  $ {A}^{*}_E$    False    37      33     37   \n\n      eppstein     closed        open  heuristic  grouped_flip  \n8           14        NaN         NaN        NaN            14  \n19          13        NaN         NaN        NaN            14  \n21          17        NaN         NaN        NaN            18  \n25          19        NaN         NaN        NaN            20  \n26          18        NaN         NaN        NaN            18  \n...        ...        ...         ...        ...           ...  \n3971        22   325123.0  12538259.0       22.0            24  \n3972        25    86021.0   3439358.0       25.0            26  \n3974        28  1444611.0  55446868.0       28.0            28  \n3976        27   240005.0  10336253.0       27.0            28  \n4110        36   318978.0   7955534.0       36.0            36  \n\n[12875 rows x 16 columns]",
      "text/html": "<div>\n<style scoped>\n    .dataframe tbody tr th:only-of-type {\n        vertical-align: middle;\n    }\n\n    .dataframe tbody tr th {\n        vertical-align: top;\n    }\n\n    .dataframe thead th {\n        text-align: right;\n    }\n</style>\n<table border=\"1\" class=\"dataframe\">\n  <thead>\n    <tr style=\"text-align: right;\">\n      <th></th>\n      <th>file1</th>\n      <th>file2</th>\n      <th>flip_self</th>\n      <th>runtime</th>\n      <th>primal_bound</th>\n      <th>size</th>\n      <th>Type</th>\n      <th>timeout</th>\n      <th>flip</th>\n      <th>simple</th>\n      <th>hanke</th>\n      <th>eppstein</th>\n      <th>closed</th>\n      <th>open</th>\n      <th>heuristic</th>\n      <th>grouped_flip</th>\n    </tr>\n  </thead>\n  <tbody>\n    <tr>\n      <th>8</th>\n      <td>../data/random_experiments_paper/n_15/set_0/tr...</td>\n      <td>../data/random_experiments_paper/n_15/set_0/tr...</td>\n      <td>15</td>\n      <td>25137</td>\n      <td>15.0</td>\n      <td>R15</td>\n      <td>ILP</td>\n      <td>False</td>\n      <td>15</td>\n      <td>13</td>\n      <td>15</td>\n      <td>14</td>\n      <td>NaN</td>\n      <td>NaN</td>\n      <td>NaN</td>\n      <td>14</td>\n    </tr>\n    <tr>\n      <th>19</th>\n      <td>../data/random_experiments_paper/n_15/set_0/tr...</td>\n      <td>../data/random_experiments_paper/n_15/set_0/tr...</td>\n      <td>14</td>\n      <td>36431</td>\n      <td>14.0</td>\n      <td>R15</td>\n      <td>ILP</td>\n      <td>False</td>\n      <td>14</td>\n      <td>12</td>\n      <td>14</td>\n      <td>13</td>\n      <td>NaN</td>\n      <td>NaN</td>\n      <td>NaN</td>\n      <td>14</td>\n    </tr>\n    <tr>\n      <th>21</th>\n      <td>../data/random_experiments_paper/n_15/set_0/tr...</td>\n      <td>../data/random_experiments_paper/n_15/set_0/tr...</td>\n      <td>18</td>\n      <td>7673</td>\n      <td>18.0</td>\n      <td>R15</td>\n      <td>ILP</td>\n      <td>False</td>\n      <td>18</td>\n      <td>17</td>\n      <td>19</td>\n      <td>17</td>\n      <td>NaN</td>\n      <td>NaN</td>\n      <td>NaN</td>\n      <td>18</td>\n    </tr>\n    <tr>\n      <th>25</th>\n      <td>../data/random_experiments_paper/n_15/set_0/tr...</td>\n      <td>../data/random_experiments_paper/n_15/set_0/tr...</td>\n      <td>-19</td>\n      <td>300003</td>\n      <td>-20.0</td>\n      <td>R15</td>\n      <td>ILP</td>\n      <td>True</td>\n      <td>20</td>\n      <td>18</td>\n      <td>20</td>\n      <td>19</td>\n      <td>NaN</td>\n      <td>NaN</td>\n      <td>NaN</td>\n      <td>20</td>\n    </tr>\n    <tr>\n      <th>26</th>\n      <td>../data/random_experiments_paper/n_15/set_0/tr...</td>\n      <td>../data/random_experiments_paper/n_15/set_0/tr...</td>\n      <td>19</td>\n      <td>4352</td>\n      <td>19.0</td>\n      <td>R15</td>\n      <td>ILP</td>\n      <td>False</td>\n      <td>19</td>\n      <td>18</td>\n      <td>19</td>\n      <td>18</td>\n      <td>NaN</td>\n      <td>NaN</td>\n      <td>NaN</td>\n      <td>18</td>\n    </tr>\n    <tr>\n      <th>...</th>\n      <td>...</td>\n      <td>...</td>\n      <td>...</td>\n      <td>...</td>\n      <td>...</td>\n      <td>...</td>\n      <td>...</td>\n      <td>...</td>\n      <td>...</td>\n      <td>...</td>\n      <td>...</td>\n      <td>...</td>\n      <td>...</td>\n      <td>...</td>\n      <td>...</td>\n      <td>...</td>\n    </tr>\n    <tr>\n      <th>3971</th>\n      <td>../data/sealevel_experiments_paper/s_41/s_41_5...</td>\n      <td>../data/sealevel_experiments_paper/s_41/s_41_5...</td>\n      <td>24</td>\n      <td>43517</td>\n      <td>NaN</td>\n      <td>S41-5</td>\n      <td>$ {A}^{*}_E$</td>\n      <td>False</td>\n      <td>24</td>\n      <td>22</td>\n      <td>24</td>\n      <td>22</td>\n      <td>325123.0</td>\n      <td>12538259.0</td>\n      <td>22.0</td>\n      <td>24</td>\n    </tr>\n    <tr>\n      <th>3972</th>\n      <td>../data/sealevel_experiments_paper/s_41/s_41_5...</td>\n      <td>../data/sealevel_experiments_paper/s_41/s_41_5...</td>\n      <td>26</td>\n      <td>11392</td>\n      <td>NaN</td>\n      <td>S41-5</td>\n      <td>$ {A}^{*}_E$</td>\n      <td>False</td>\n      <td>26</td>\n      <td>25</td>\n      <td>26</td>\n      <td>25</td>\n      <td>86021.0</td>\n      <td>3439358.0</td>\n      <td>25.0</td>\n      <td>26</td>\n    </tr>\n    <tr>\n      <th>3974</th>\n      <td>../data/sealevel_experiments_paper/s_41/s_41_5...</td>\n      <td>../data/sealevel_experiments_paper/s_41/s_41_5...</td>\n      <td>29</td>\n      <td>206006</td>\n      <td>NaN</td>\n      <td>S41-5</td>\n      <td>$ {A}^{*}_E$</td>\n      <td>False</td>\n      <td>29</td>\n      <td>28</td>\n      <td>29</td>\n      <td>28</td>\n      <td>1444611.0</td>\n      <td>55446868.0</td>\n      <td>28.0</td>\n      <td>28</td>\n    </tr>\n    <tr>\n      <th>3976</th>\n      <td>../data/sealevel_experiments_paper/s_41/s_41_5...</td>\n      <td>../data/sealevel_experiments_paper/s_41/s_41_5...</td>\n      <td>28</td>\n      <td>33473</td>\n      <td>NaN</td>\n      <td>S41-5</td>\n      <td>$ {A}^{*}_E$</td>\n      <td>False</td>\n      <td>28</td>\n      <td>26</td>\n      <td>28</td>\n      <td>27</td>\n      <td>240005.0</td>\n      <td>10336253.0</td>\n      <td>27.0</td>\n      <td>28</td>\n    </tr>\n    <tr>\n      <th>4110</th>\n      <td>../data/sealevel_experiments_paper/s_41/s_41_1...</td>\n      <td>../data/sealevel_experiments_paper/s_41/s_41_1...</td>\n      <td>37</td>\n      <td>33853</td>\n      <td>NaN</td>\n      <td>S41-41</td>\n      <td>$ {A}^{*}_E$</td>\n      <td>False</td>\n      <td>37</td>\n      <td>33</td>\n      <td>37</td>\n      <td>36</td>\n      <td>318978.0</td>\n      <td>7955534.0</td>\n      <td>36.0</td>\n      <td>36</td>\n    </tr>\n  </tbody>\n</table>\n<p>12875 rows × 16 columns</p>\n</div>"
     },
     "execution_count": 19,
     "metadata": {},
     "output_type": "execute_result"
    },
    {
     "data": {
      "text/plain": "<Figure size 576x201.6 with 0 Axes>"
     },
     "metadata": {},
     "output_type": "display_data"
    }
   ],
   "source": [
    "#runtimes all four approaches \n",
    "\n",
    "dF1=pd.concat([dAI, dAB,dAS,dAE])\n",
    "\n",
    "\n",
    "dF1['grouped_flip'] = (dF1['flip'] - 10) // 2 * 2 + 10\n",
    "dF1 = dF1[dF1['flip'] > 10]\n",
    "dF1 = dF1[dF1['hanke']!=dF1['eppstein']]\n",
    "\n",
    "my_palette =[CAI,CAB,CAS,CAE] \n",
    "dF1['Type'] = dF1['Type'].replace('A$_S$', '$ {A}^{*}_S$')\n",
    "dF1['Type'] = dF1['Type'].replace('A$_E$', '$ {A}^{*}_E$')\n",
    "plt.rcParams['figure.figsize'] = [8, 2.8]\n",
    "ax = sns.boxplot(x=\"grouped_flip\", y=\"runtime\", hue=\"Type\",data=dF1, width=0.7, fliersize=1.5, palette=my_palette)\n",
    "ax.set_yscale('log')\n",
    "yticks = [10**i for i in range(int(np.floor(np.log10(1))), int(np.ceil(np.log10(1000000))))]\n",
    "ytick_labels = [f'$10^{int(np.log10(val))}$' for val in yticks]\n",
    "\n",
    "\n",
    "\n",
    "\n",
    "plt.yticks(yticks, ytick_labels)\n",
    "plt.axhline(y=300000, color='red', linewidth=0.7, linestyle='--')\n",
    "plt.xlabel('flip distance d$_F$')\n",
    "plt.ylabel('runtime [$ms$]')\n",
    "handles, labels = ax.get_legend_handles_labels()\n",
    "ax.legend(handles=handles, bbox_to_anchor=(1, 0), loc='lower right', ncol=4)  \n",
    "\n",
    "\n",
    "plt.tight_layout()\n",
    "plt.savefig(\"plots/all_approaches_runtime_random.pdf\")\n",
    "plt.show()\n",
    "plt.clf()\n",
    "dF1\n",
    "# plt.close()"
   ]
  },
  {
   "cell_type": "code",
   "execution_count": 20,
   "metadata": {
    "ExecuteTime": {
     "end_time": "2024-02-09T13:08:11.736712598Z",
     "start_time": "2024-02-09T13:08:11.593918418Z"
    }
   },
   "outputs": [],
   "source": [
    "#joining for comparison with respect to wins\n",
    "\n",
    "dTmp_4E=pd.concat([dAE])\n",
    "dTmp_4S=pd.concat([dAS])\n",
    "dTmp_4C=pd.concat([dAC])\n",
    "dTmp_4R=pd.concat([dAR])\n",
    "dTmp_4I=pd.concat([dAB])\n",
    "dTmp_4B=pd.concat([dAI])\n",
    "\n",
    "dTmp_4E.rename(columns={'flip':'flip_e','runtime': 'runtime_e','closed': 'closed_e','open': 'open_e','heuristic':'heuristic_e'},inplace=True)\n",
    "dTmp_4S.rename(columns={'flip':'flip_s','runtime': 'runtime_s','closed': 'closed_s','open': 'open_s','heuristic':'heuristic_s'},inplace=True)\n",
    "dTmp_4C.rename(columns={'flip':'flip_c','runtime': 'runtime_c','closed': 'closed_c','open': 'open_c','heuristic':'heuristic_c'},inplace=True)\n",
    "dTmp_4R.rename(columns={'flip':'flip_r','runtime': 'runtime_r','closed': 'closed_r','open': 'open_r','heuristic':'heuristic_r'},inplace=True)\n",
    "dTmp_4I.rename(columns={'flip':'flip_i','runtime': 'runtime_i'},inplace=True)\n",
    "dTmp_4B.rename(columns={'flip':'flip_b','runtime': 'runtime_b'},inplace=True)\n",
    "\n",
    "dJoin=pd.merge(\n",
    "    dTmp_4E[[ 'file1', 'file2','flip_e', 'heuristic_e','runtime_e','hanke','eppstein','size']],\n",
    "    dTmp_4S[['runtime_s', 'file1', 'file2','heuristic_s','size']],\n",
    "    on=['file1', 'file2','size']\n",
    ")\n",
    "dJoin=pd.merge(dJoin,dTmp_4C[['runtime_c', 'file1', 'file2','size']], on=['file1', 'file2','size'] )\n",
    "dJoin=pd.merge(dJoin,dTmp_4R[['runtime_r', 'file1', 'file2','size']], on=['file1', 'file2','size'] )\n",
    "dJoin=pd.merge(dJoin,dTmp_4I[['runtime_i', 'file1', 'file2','size']], on=['file1', 'file2','size'] )\n",
    "dJoin=pd.merge(dJoin,dTmp_4B[['runtime_b', 'file1', 'file2','size']], on=['file1', 'file2','size'] )\n",
    "\n",
    "dJoin= dJoin[(dJoin['flip_e'] > -1) ]\n",
    "dJoin= dJoin[(dJoin['flip_e'] > -1) ]\n",
    "\n",
    "dJoin['deltaheuristic']=dJoin['heuristic_e']-dJoin['heuristic_s']\n",
    "dJoin = dJoin[dJoin['eppstein'] - dJoin['hanke'] != 0]\n",
    "\n",
    "#dJoin\n"
   ]
  },
  {
   "cell_type": "code",
   "outputs": [],
   "source": [
    "#finding wins \n",
    "#note that we allow 0.1% difference to the best runtime\n",
    "\n",
    "#ACvsAEvsAS\n",
    "def apply_condition(row):\n",
    "    min_runtime = row['min_runtime']\n",
    "    for runtime_x in ['runtime_s', 'runtime_e', 'runtime_c']:\n",
    "        if row[runtime_x]/ min_runtime <1.001:\n",
    "            row[runtime_x] = 1\n",
    "        else:\n",
    "            row[runtime_x] = 0\n",
    "    return row\n",
    "\n",
    "#AEvsAS\n",
    "def apply_condition_se(row):\n",
    "    min_runtime = row['min_runtime']\n",
    "    for runtime_x in ['runtime_s', 'runtime_e']:\n",
    "        if row[runtime_x]>=298000:\n",
    "            row[runtime_x] = 0   \n",
    "        elif row[runtime_x]/ min_runtime <1.001:\n",
    "            row[runtime_x] = 1\n",
    "        else:\n",
    "            row[runtime_x] = 0\n",
    "    return row\n",
    "\n"
   ],
   "metadata": {
    "collapsed": false,
    "ExecuteTime": {
     "end_time": "2024-02-09T13:08:11.739884219Z",
     "start_time": "2024-02-09T13:08:11.681995655Z"
    }
   },
   "execution_count": 21
  },
  {
   "cell_type": "code",
   "outputs": [
    {
     "name": "stderr",
     "output_type": "stream",
     "text": [
      "/tmp/ipykernel_39128/150584248.py:9: SettingWithCopyWarning: \n",
      "A value is trying to be set on a copy of a slice from a DataFrame.\n",
      "Try using .loc[row_indexer,col_indexer] = value instead\n",
      "\n",
      "See the caveats in the documentation: https://pandas.pydata.org/pandas-docs/stable/user_guide/indexing.html#returning-a-view-versus-a-copy\n",
      "  dF_7_wins['min_runtime'] = dF_7_wins[['runtime_s', 'runtime_e', 'runtime_c']].min(axis=1)\n"
     ]
    },
    {
     "data": {
      "text/plain": "<Figure size 288x144 with 1 Axes>",
      "image/png": "[encoded data removed]"
     },
     "metadata": {},
     "output_type": "display_data"
    },
    {
     "name": "stdout",
     "output_type": "stream",
     "text": [
      "wins:\n",
      "   deltaheuristic  A$_S$  A$_C$  A$_E$\n",
      "0               0    940    940      0\n",
      "1               1     70    504     44\n",
      "2               2     14    404     73\n",
      "3               3      1    265     67\n",
      "4               4      0    157     58\n",
      "5               5      0     78     30\n",
      "6               6      0     38     30\n",
      "7               7      0     15      6\n",
      "8               8      0      8      4\n",
      "9               9      0      2      2\n"
     ]
    }
   ],
   "source": [
    "#wins with respect to delta h\n",
    "\n",
    "dF_7 = dJoin.copy()\n",
    "dF_7['grouped_flip'] = (dF_7['flip_e'] - 10) // 2 * 2 + 10\n",
    "dF_7 = dF_7[dF_7['runtime_s'] >=2]\n",
    "dF_7 = dF_7[dF_7['deltaheuristic'] <= 9]\n",
    "\n",
    "dF_7_wins=dF_7[['file1','file2','runtime_s','runtime_e','runtime_c','size','deltaheuristic']]\n",
    "dF_7_wins['min_runtime'] = dF_7_wins[['runtime_s', 'runtime_e', 'runtime_c']].min(axis=1)\n",
    "dF_7_wins = dF_7_wins.apply(apply_condition, axis=1)\n",
    "\n",
    "\n",
    "\"\"\"\n",
    "if delta h = 0 our code does exactly the same for A_S and A_C, but sometimes the hardware runtime fluctuation\n",
    "\"\"\"\n",
    "mask = (dF_7_wins['deltaheuristic'] == 0) & ((dF_7_wins['runtime_s'] == 1) | (dF_7_wins['runtime_c'] == 1))\n",
    "dF_7_wins.loc[mask, 'runtime_s'] = 1\n",
    "mask = (dF_7_wins['deltaheuristic'] == 0) & ((dF_7_wins['runtime_s'] == 1) | (dF_7_wins['runtime_c'] == 1))\n",
    "dF_7_wins.loc[mask, 'runtime_c'] = 1\n",
    "\n",
    "\n",
    "\n",
    "dF_7_wins = dF_7_wins.rename(columns={'runtime_s': 'A$_S$', 'runtime_e': 'A$_E$', 'runtime_c':'A$_C$'})\n",
    "size_counts = dF_7_wins.groupby('deltaheuristic').sum()[['A$_S$','A$_C$', 'A$_E$']].reset_index()\n",
    "\n",
    "# Melt the DataFrame to have a 'variable' column for seaborn\n",
    "size_counts_melted = size_counts.melt(id_vars='deltaheuristic', var_name='runtime_type', value_name='runtime')\n",
    "\n",
    "plt.figure(figsize=(4, 2)) \n",
    "# Use Seaborn's barplot\n",
    "\n",
    "my_palette=[CAS,CAC,CAE]\n",
    "size_counts_melted['runtime_type'] = size_counts_melted['runtime_type'].replace('A$_S$', '$ {A}^{*}_S$')\n",
    "size_counts_melted['runtime_type'] = size_counts_melted['runtime_type'].replace('A$_C$', '$ {A}^{*}_C$')\n",
    "size_counts_melted['runtime_type'] = size_counts_melted['runtime_type'].replace('A$_E$', '$ {A}^{*}_E$')\n",
    "\n",
    "\n",
    "sns.barplot(x='deltaheuristic', y='runtime', hue='runtime_type', data=size_counts_melted,palette=my_palette)\n",
    "\n",
    "# Adding labels and legend\n",
    "plt.xlabel('$\\Delta h(D_s)$')\n",
    "plt.ylabel('wins')\n",
    "plt.legend()\n",
    "\n",
    "\n",
    "plt.tight_layout()\n",
    "# Display the plot\n",
    "plt.savefig(\"plots/delta_combined_wins.pdf\")\n",
    "plt.show()\n",
    "\n",
    "print(\"wins:\")\n",
    "print(size_counts)\n",
    "\n",
    "#dF_7_wins"
   ],
   "metadata": {
    "collapsed": false,
    "ExecuteTime": {
     "end_time": "2024-02-09T13:09:33.403989460Z",
     "start_time": "2024-02-09T13:09:31.291476472Z"
    }
   },
   "execution_count": 37
  },
  {
   "cell_type": "code",
   "execution_count": 23,
   "metadata": {
    "ExecuteTime": {
     "end_time": "2024-02-09T13:08:13.194057938Z",
     "start_time": "2024-02-09T13:08:12.567303625Z"
    }
   },
   "outputs": [
    {
     "name": "stderr",
     "output_type": "stream",
     "text": [
      "/tmp/ipykernel_39128/2198769373.py:9: SettingWithCopyWarning: \n",
      "A value is trying to be set on a copy of a slice from a DataFrame.\n",
      "Try using .loc[row_indexer,col_indexer] = value instead\n",
      "\n",
      "See the caveats in the documentation: https://pandas.pydata.org/pandas-docs/stable/user_guide/indexing.html#returning-a-view-versus-a-copy\n",
      "  dF_7_wins['min_runtime'] = dF_7_wins[['runtime_s', 'runtime_e']].min(axis=1)\n"
     ]
    },
    {
     "data": {
      "text/plain": "<Figure size 252x144 with 1 Axes>",
      "image/png": "[encoded data removed]"
     },
     "metadata": {},
     "output_type": "display_data"
    },
    {
     "name": "stdout",
     "output_type": "stream",
     "text": [
      "wins:\n",
      "   deltaheuristic  A$_S$  A$_E$\n",
      "0               0    940      0\n",
      "1               1    300    253\n",
      "2               2     65    369\n",
      "3               3      9    274\n",
      "4               4      0    188\n",
      "5               5      0     97\n",
      "6               6      0     60\n",
      "7               7      0     21\n",
      "8               8      0     10\n",
      "9               9      0      3\n"
     ]
    }
   ],
   "source": [
    "#wins with respect to delta h but just for AE and AS\n",
    "\n",
    "dF_7 = dJoin.copy()\n",
    "dF_7['grouped_flip'] = (dF_7['flip_e'] - 10) // 2 * 2 + 10\n",
    "dF_7 = dF_7[dF_7['runtime_s'] >=2]\n",
    "dF_7 = dF_7[dF_7['deltaheuristic'] <= 9]\n",
    "\n",
    "dF_7_wins=dF_7[['file1','file2','runtime_s','runtime_e','size','deltaheuristic']]\n",
    "dF_7_wins['min_runtime'] = dF_7_wins[['runtime_s', 'runtime_e']].min(axis=1)\n",
    "dF_7_wins = dF_7_wins.apply(apply_condition_se, axis=1)\n",
    "\n",
    "dF_7_wins=dF_7_wins[['file1','file2','runtime_s','runtime_e','size','deltaheuristic']]\n",
    "\n",
    "dF_7_wins = dF_7_wins.rename(columns={'runtime_s': 'A$_S$', 'runtime_e': 'A$_E$'})\n",
    "size_counts = dF_7_wins.groupby('deltaheuristic').sum()[['A$_S$', 'A$_E$']].reset_index()\n",
    "\n",
    "# Melt the DataFrame to have a 'variable' column for seaborn\n",
    "size_counts_melted = size_counts.melt(id_vars='deltaheuristic', var_name='runtime_type', value_name='runtime')\n",
    "\n",
    "size_counts_melted['runtime_type'] = size_counts_melted['runtime_type'].replace('A$_S$', '$ {A}^{*}_S$')\n",
    "size_counts_melted['runtime_type'] = size_counts_melted['runtime_type'].replace('A$_E$', '$ {A}^{*}_E$')\n",
    "\n",
    "\n",
    "plt.figure(figsize=(3.5, 2)) \n",
    "# Use Seaborn's barplot\n",
    "my_palette=[CAS,CAE]\n",
    "sns.barplot(x='deltaheuristic', y='runtime', hue='runtime_type', data=size_counts_melted,palette=my_palette)\n",
    "\n",
    "# Adding labels and legend\n",
    "plt.xlabel('$\\Delta h(D_s)$')\n",
    "plt.ylabel('wins')\n",
    "plt.legend()\n",
    "\n",
    "\n",
    "plt.tight_layout()\n",
    "# Display the plot\n",
    "plt.savefig(\"plots/delta_wins.pdf\")\n",
    "plt.show()\n",
    "\n",
    "print(\"wins:\")\n",
    "print(size_counts)\n",
    "\n",
    "\n",
    "\n",
    "\n",
    "\n"
   ]
  },
  {
   "cell_type": "code",
   "execution_count": 24,
   "metadata": {
    "ExecuteTime": {
     "end_time": "2024-02-09T13:08:13.254819522Z",
     "start_time": "2024-02-09T13:08:13.197196110Z"
    }
   },
   "outputs": [],
   "source": [
    "# join for speedup plots\n",
    "dTmp_4E=pd.concat([dAE])\n",
    "dTmp_4S=pd.concat([dAC])\n",
    "\n",
    "dTmp_4E.rename(columns={'flip':'flip_e','runtime': 'runtime_e','closed': 'closed_e','open': 'open_e','heuristic':'heuristic_e'},inplace=True)\n",
    "dTmp_4S.rename(columns={'flip':'flip_s','runtime': 'runtime_s','closed': 'closed_s','open': 'open_s','heuristic':'heuristic_s'},inplace=True)\n",
    "\n",
    "dJoinE=pd.merge(\n",
    "    dTmp_4E[[ 'file1', 'file2','flip_e', 'runtime_e','closed_e','heuristic_e','hanke','eppstein','size']],\n",
    "    dTmp_4S[['runtime_s', 'file1', 'file2','closed_s','heuristic_s','size']],\n",
    "    on=['file1', 'file2','size']\n",
    ")\n",
    "\n",
    "\n",
    "dJoinE['Type'] = 'A$_E$'\n",
    "dJoinE['diff_rt'] = dJoinE['runtime_e']/dJoinE['runtime_s']\n",
    "dJoinE['diff_closed'] = dJoinE['closed_e']/dJoinE['closed_s']\n",
    "dJoinE['win'] = np.where(dJoinE['runtime_e'] <= dJoinE['runtime_s'], 'A$_E$', 'A$_S$')\n",
    "dJoinE['deltaheuristic'] = dJoinE['heuristic_e']-dJoinE['heuristic_s']\n",
    "\n",
    "#dJoinE"
   ]
  },
  {
   "cell_type": "code",
   "execution_count": 25,
   "metadata": {
    "ExecuteTime": {
     "end_time": "2024-02-09T13:08:13.320919677Z",
     "start_time": "2024-02-09T13:08:13.242207310Z"
    }
   },
   "outputs": [],
   "source": [
    "# join for speedup plots\n",
    "dTmp_4E=pd.concat([dAS])\n",
    "dTmp_4S=pd.concat([dAC])\n",
    "\n",
    "dTmp_4E.rename(columns={'flip':'flip_e','runtime': 'runtime_e','closed': 'closed_e','open': 'open_e','heuristic':'heuristic_e'},inplace=True)\n",
    "dTmp_4S.rename(columns={'flip':'flip_s','runtime': 'runtime_s','closed': 'closed_s','open': 'open_s','heuristic':'heuristic_s'},inplace=True)\n",
    "\n",
    "dJoinS=pd.merge(\n",
    "    dTmp_4E[[ 'file1', 'file2','flip_e', 'runtime_e','closed_e','heuristic_e','hanke','eppstein','size']],\n",
    "    dTmp_4S[['runtime_s', 'file1', 'file2','closed_s','heuristic_s','size']],\n",
    "    on=['file1', 'file2','size']\n",
    ")\n",
    "\n",
    "\n",
    "dJoinS['Type'] = 'A$_S$'\n",
    "dJoinS['diff_rt'] = dJoinS['runtime_e']/dJoinS['runtime_s']\n",
    "dJoinS['diff_closed'] = dJoinS['closed_e']/dJoinS['closed_s']\n",
    "dJoinS['win'] = np.where(dJoinS['runtime_e'] <= dJoinS['runtime_s'], 'A$_E$', 'A$_S$')\n",
    "dJoinS['deltaheuristic'] = dJoinS['heuristic_e']-dJoinS['heuristic_s']\n",
    "\n",
    "#dJoinS"
   ]
  },
  {
   "cell_type": "code",
   "outputs": [
    {
     "data": {
      "text/plain": "<Figure size 576x165.6 with 1 Axes>",
      "image/png": "[encoded data removed]"
     },
     "metadata": {},
     "output_type": "display_data"
    },
    {
     "data": {
      "text/plain": "                                                  file1  \\\n8     ../data/random_experiments_paper/n_15/set_0/tr...   \n19    ../data/random_experiments_paper/n_15/set_0/tr...   \n21    ../data/random_experiments_paper/n_15/set_0/tr...   \n25    ../data/random_experiments_paper/n_15/set_0/tr...   \n26    ../data/random_experiments_paper/n_15/set_0/tr...   \n...                                                 ...   \n3971  ../data/sealevel_experiments_paper/s_41/s_41_5...   \n3972  ../data/sealevel_experiments_paper/s_41/s_41_5...   \n3974  ../data/sealevel_experiments_paper/s_41/s_41_5...   \n3976  ../data/sealevel_experiments_paper/s_41/s_41_5...   \n4110  ../data/sealevel_experiments_paper/s_41/s_41_1...   \n\n                                                  file2  flip_self  heuristic  \\\n8     ../data/random_experiments_paper/n_15/set_0/tr...         15         13   \n19    ../data/random_experiments_paper/n_15/set_0/tr...         14         12   \n21    ../data/random_experiments_paper/n_15/set_0/tr...         18         17   \n25    ../data/random_experiments_paper/n_15/set_0/tr...         20         18   \n26    ../data/random_experiments_paper/n_15/set_0/tr...         19         18   \n...                                                 ...        ...        ...   \n3971  ../data/sealevel_experiments_paper/s_41/s_41_5...         24         22   \n3972  ../data/sealevel_experiments_paper/s_41/s_41_5...         26         25   \n3974  ../data/sealevel_experiments_paper/s_41/s_41_5...         29         28   \n3976  ../data/sealevel_experiments_paper/s_41/s_41_5...         28         27   \n4110  ../data/sealevel_experiments_paper/s_41/s_41_1...         37         36   \n\n      runtime   closed      open    size          Type  timeout  flip  simple  \\\n8           3      497      3653     R15  $ {A}^{*}_S$    False    15      13   \n19          1       86       816     R15  $ {A}^{*}_S$    False    14      12   \n21          1       88       655     R15  $ {A}^{*}_S$    False    18      17   \n25         11     2219     13376     R15  $ {A}^{*}_S$    False    20      18   \n26          2      236      2016     R15  $ {A}^{*}_S$    False    19      18   \n...       ...      ...       ...     ...           ...      ...   ...     ...   \n3971    43517   325123  12538259   S41-5  $ {A}^{*}_E$    False    24      22   \n3972    11392    86021   3439358   S41-5  $ {A}^{*}_E$    False    26      25   \n3974   206006  1444611  55446868   S41-5  $ {A}^{*}_E$    False    29      28   \n3976    33473   240005  10336253   S41-5  $ {A}^{*}_E$    False    28      26   \n4110    33853   318978   7955534  S41-41  $ {A}^{*}_E$    False    37      33   \n\n      hanke  eppstein  count_e  count_s  grouped_flip  \n8        15        14      NaN      NaN            14  \n19       14        13      NaN      NaN            14  \n21       19        17      NaN      NaN            18  \n25       20        19      NaN      NaN            20  \n26       19        18      NaN      NaN            18  \n...     ...       ...      ...      ...           ...  \n3971     24        22      NaN      NaN            24  \n3972     26        25      NaN      NaN            26  \n3974     29        28      NaN      NaN            28  \n3976     28        27      NaN      NaN            28  \n4110     37        36      NaN      NaN            36  \n\n[10008 rows x 17 columns]",
      "text/html": "<div>\n<style scoped>\n    .dataframe tbody tr th:only-of-type {\n        vertical-align: middle;\n    }\n\n    .dataframe tbody tr th {\n        vertical-align: top;\n    }\n\n    .dataframe thead th {\n        text-align: right;\n    }\n</style>\n<table border=\"1\" class=\"dataframe\">\n  <thead>\n    <tr style=\"text-align: right;\">\n      <th></th>\n      <th>file1</th>\n      <th>file2</th>\n      <th>flip_self</th>\n      <th>heuristic</th>\n      <th>runtime</th>\n      <th>closed</th>\n      <th>open</th>\n      <th>size</th>\n      <th>Type</th>\n      <th>timeout</th>\n      <th>flip</th>\n      <th>simple</th>\n      <th>hanke</th>\n      <th>eppstein</th>\n      <th>count_e</th>\n      <th>count_s</th>\n      <th>grouped_flip</th>\n    </tr>\n  </thead>\n  <tbody>\n    <tr>\n      <th>8</th>\n      <td>../data/random_experiments_paper/n_15/set_0/tr...</td>\n      <td>../data/random_experiments_paper/n_15/set_0/tr...</td>\n      <td>15</td>\n      <td>13</td>\n      <td>3</td>\n      <td>497</td>\n      <td>3653</td>\n      <td>R15</td>\n      <td>$ {A}^{*}_S$</td>\n      <td>False</td>\n      <td>15</td>\n      <td>13</td>\n      <td>15</td>\n      <td>14</td>\n      <td>NaN</td>\n      <td>NaN</td>\n      <td>14</td>\n    </tr>\n    <tr>\n      <th>19</th>\n      <td>../data/random_experiments_paper/n_15/set_0/tr...</td>\n      <td>../data/random_experiments_paper/n_15/set_0/tr...</td>\n      <td>14</td>\n      <td>12</td>\n      <td>1</td>\n      <td>86</td>\n      <td>816</td>\n      <td>R15</td>\n      <td>$ {A}^{*}_S$</td>\n      <td>False</td>\n      <td>14</td>\n      <td>12</td>\n      <td>14</td>\n      <td>13</td>\n      <td>NaN</td>\n      <td>NaN</td>\n      <td>14</td>\n    </tr>\n    <tr>\n      <th>21</th>\n      <td>../data/random_experiments_paper/n_15/set_0/tr...</td>\n      <td>../data/random_experiments_paper/n_15/set_0/tr...</td>\n      <td>18</td>\n      <td>17</td>\n      <td>1</td>\n      <td>88</td>\n      <td>655</td>\n      <td>R15</td>\n      <td>$ {A}^{*}_S$</td>\n      <td>False</td>\n      <td>18</td>\n      <td>17</td>\n      <td>19</td>\n      <td>17</td>\n      <td>NaN</td>\n      <td>NaN</td>\n      <td>18</td>\n    </tr>\n    <tr>\n      <th>25</th>\n      <td>../data/random_experiments_paper/n_15/set_0/tr...</td>\n      <td>../data/random_experiments_paper/n_15/set_0/tr...</td>\n      <td>20</td>\n      <td>18</td>\n      <td>11</td>\n      <td>2219</td>\n      <td>13376</td>\n      <td>R15</td>\n      <td>$ {A}^{*}_S$</td>\n      <td>False</td>\n      <td>20</td>\n      <td>18</td>\n      <td>20</td>\n      <td>19</td>\n      <td>NaN</td>\n      <td>NaN</td>\n      <td>20</td>\n    </tr>\n    <tr>\n      <th>26</th>\n      <td>../data/random_experiments_paper/n_15/set_0/tr...</td>\n      <td>../data/random_experiments_paper/n_15/set_0/tr...</td>\n      <td>19</td>\n      <td>18</td>\n      <td>2</td>\n      <td>236</td>\n      <td>2016</td>\n      <td>R15</td>\n      <td>$ {A}^{*}_S$</td>\n      <td>False</td>\n      <td>19</td>\n      <td>18</td>\n      <td>19</td>\n      <td>18</td>\n      <td>NaN</td>\n      <td>NaN</td>\n      <td>18</td>\n    </tr>\n    <tr>\n      <th>...</th>\n      <td>...</td>\n      <td>...</td>\n      <td>...</td>\n      <td>...</td>\n      <td>...</td>\n      <td>...</td>\n      <td>...</td>\n      <td>...</td>\n      <td>...</td>\n      <td>...</td>\n      <td>...</td>\n      <td>...</td>\n      <td>...</td>\n      <td>...</td>\n      <td>...</td>\n      <td>...</td>\n      <td>...</td>\n    </tr>\n    <tr>\n      <th>3971</th>\n      <td>../data/sealevel_experiments_paper/s_41/s_41_5...</td>\n      <td>../data/sealevel_experiments_paper/s_41/s_41_5...</td>\n      <td>24</td>\n      <td>22</td>\n      <td>43517</td>\n      <td>325123</td>\n      <td>12538259</td>\n      <td>S41-5</td>\n      <td>$ {A}^{*}_E$</td>\n      <td>False</td>\n      <td>24</td>\n      <td>22</td>\n      <td>24</td>\n      <td>22</td>\n      <td>NaN</td>\n      <td>NaN</td>\n      <td>24</td>\n    </tr>\n    <tr>\n      <th>3972</th>\n      <td>../data/sealevel_experiments_paper/s_41/s_41_5...</td>\n      <td>../data/sealevel_experiments_paper/s_41/s_41_5...</td>\n      <td>26</td>\n      <td>25</td>\n      <td>11392</td>\n      <td>86021</td>\n      <td>3439358</td>\n      <td>S41-5</td>\n      <td>$ {A}^{*}_E$</td>\n      <td>False</td>\n      <td>26</td>\n      <td>25</td>\n      <td>26</td>\n      <td>25</td>\n      <td>NaN</td>\n      <td>NaN</td>\n      <td>26</td>\n    </tr>\n    <tr>\n      <th>3974</th>\n      <td>../data/sealevel_experiments_paper/s_41/s_41_5...</td>\n      <td>../data/sealevel_experiments_paper/s_41/s_41_5...</td>\n      <td>29</td>\n      <td>28</td>\n      <td>206006</td>\n      <td>1444611</td>\n      <td>55446868</td>\n      <td>S41-5</td>\n      <td>$ {A}^{*}_E$</td>\n      <td>False</td>\n      <td>29</td>\n      <td>28</td>\n      <td>29</td>\n      <td>28</td>\n      <td>NaN</td>\n      <td>NaN</td>\n      <td>28</td>\n    </tr>\n    <tr>\n      <th>3976</th>\n      <td>../data/sealevel_experiments_paper/s_41/s_41_5...</td>\n      <td>../data/sealevel_experiments_paper/s_41/s_41_5...</td>\n      <td>28</td>\n      <td>27</td>\n      <td>33473</td>\n      <td>240005</td>\n      <td>10336253</td>\n      <td>S41-5</td>\n      <td>$ {A}^{*}_E$</td>\n      <td>False</td>\n      <td>28</td>\n      <td>26</td>\n      <td>28</td>\n      <td>27</td>\n      <td>NaN</td>\n      <td>NaN</td>\n      <td>28</td>\n    </tr>\n    <tr>\n      <th>4110</th>\n      <td>../data/sealevel_experiments_paper/s_41/s_41_1...</td>\n      <td>../data/sealevel_experiments_paper/s_41/s_41_1...</td>\n      <td>37</td>\n      <td>36</td>\n      <td>33853</td>\n      <td>318978</td>\n      <td>7955534</td>\n      <td>S41-41</td>\n      <td>$ {A}^{*}_E$</td>\n      <td>False</td>\n      <td>37</td>\n      <td>33</td>\n      <td>37</td>\n      <td>36</td>\n      <td>NaN</td>\n      <td>NaN</td>\n      <td>36</td>\n    </tr>\n  </tbody>\n</table>\n<p>10008 rows × 17 columns</p>\n</div>"
     },
     "execution_count": 26,
     "metadata": {},
     "output_type": "execute_result"
    },
    {
     "data": {
      "text/plain": "<Figure size 576x165.6 with 0 Axes>"
     },
     "metadata": {},
     "output_type": "display_data"
    }
   ],
   "source": [
    "#runtime plot for all astar approaches\n",
    "\n",
    "dF1=pd.concat([dAS,dAC,dAE])\n",
    "\n",
    "\n",
    "dF1['grouped_flip'] = (dF1['flip'] - 10) // 2 * 2 + 10\n",
    "dF1 = dF1[dF1['flip'] > 10]\n",
    "dF1 = dF1[dF1['hanke']!=dF1['eppstein']]\n",
    "\n",
    "reversed_palette = sns.color_palette(\"deep\", 4)[::-1]\n",
    "reversed_palette_swapped = reversed_palette.copy()\n",
    "reversed_palette_swapped[2], reversed_palette_swapped[3] = reversed_palette_swapped[3], reversed_palette_swapped[2]\n",
    "plt.rcParams['figure.figsize'] = [8, 2.3]\n",
    "\n",
    "my_palette=[CAS,CAC,CAE]\n",
    "dF1['Type'] = dF1['Type'].replace('A$_S$', '$ {A}^{*}_S$')\n",
    "dF1['Type'] = dF1['Type'].replace('A$_C$', '$ {A}^{*}_C$')\n",
    "dF1['Type'] = dF1['Type'].replace('A$_E$', '$ {A}^{*}_E$')\n",
    "ax = sns.boxplot(x=\"grouped_flip\", y=\"runtime\", hue=\"Type\",data=dF1, width=0.7, fliersize=1.5,palette=my_palette)\n",
    "ax.set_yscale('log')\n",
    "yticks = [10**i for i in range(int(np.floor(np.log10(1))), int(np.ceil(np.log10(1000000))))]\n",
    "ytick_labels = [f'$10^{int(np.log10(val))}$' for val in yticks]\n",
    "\n",
    "plt.yticks(yticks, ytick_labels)\n",
    "plt.axhline(y=300000, color='red', linewidth=0.7, linestyle='--')\n",
    "plt.xlabel('flip distance d$_F$')\n",
    "plt.ylabel('runtime [$ms$]')\n",
    "handles, labels = ax.get_legend_handles_labels()\n",
    "#new_labels = [\"ILP\", \"BFS\", \"A$_E$\", \"A$_S$\"]\n",
    "ax.legend(handles=handles, bbox_to_anchor=(0, 1), loc='upper left', ncol=4)  # Adjust bbox_to_anchor and loc\n",
    "\n",
    "# Set ncol to the number of columns you want in the legend\n",
    "\n",
    "\n",
    "\n",
    "plt.tight_layout()\n",
    "plt.savefig(\"plots/runtime_with_combined.pdf\")\n",
    "plt.show()\n",
    "plt.clf()\n",
    "\n",
    "dF1"
   ],
   "metadata": {
    "collapsed": false,
    "ExecuteTime": {
     "end_time": "2024-02-09T13:08:15.017316609Z",
     "start_time": "2024-02-09T13:08:13.286127159Z"
    }
   },
   "execution_count": 26
  },
  {
   "cell_type": "code",
   "outputs": [
    {
     "data": {
      "text/plain": "<Figure size 576x165.6 with 1 Axes>",
      "image/png": "[encoded data removed]"
     },
     "metadata": {},
     "output_type": "display_data"
    }
   ],
   "source": [
    "#comparison of all A* approaches with respect to speedup\n",
    "\n",
    "dF_4=pd.concat([dJoinS,dJoinE])\n",
    "dF_4=dF_4[dF_4['flip_e']>10]\n",
    "dF_4['grouped_flip'] = (dF_4['flip_e'] - 10) // 2 * 2 + 10\n",
    "dF_4=dF_4[dF_4['eppstein'] -dF_4['hanke']!=0]\n",
    "#dF_4=dF_4[dF_4['runtime_s']>10]\n",
    "dF_4['diff_rt'] = np.where(dF_4['diff_rt'] > 1000, 1000, dF_4['diff_rt'])\n",
    "dF_4['diff_rt'] = np.where(dF_4['diff_rt'] <0.3, 0.3, dF_4['diff_rt'])\n",
    "\n",
    "plt.rcParams['figure.figsize'] = [8, 2.3]\n",
    "\n",
    "\n",
    "props= dict(markerfacecolor='0.75', markersize=5,\n",
    "            linestyle='none')\n",
    "\n",
    "my_palette=[CAS,CAE]\n",
    "dF_4['Type'] = dF_4['Type'].replace('A$_S$', '$ {A}^{*}_S$')\n",
    "dF_4['Type'] = dF_4['Type'].replace('A$_E$', '$ {A}^{*}_E$')\n",
    "\n",
    "ax = sns.boxplot(\n",
    "    x=\"grouped_flip\",\n",
    "    y=\"diff_rt\",\n",
    "    hue='Type',\n",
    "    data=dF_4,\n",
    "    width=0.6,\n",
    "    fliersize=1.5,\n",
    "    palette=my_palette\n",
    ")\n",
    "ax.set_yscale('log')\n",
    "# Manually adjust y-axis ticks and labels\n",
    "yticks = [10**i for i in range(int(np.floor(np.log10(1))), int(np.ceil(np.log10(1000))))]\n",
    "ytick_labels = [f'$10^{int(np.log10(val))}$' if val >= 1 else f'$0.1$' for val in yticks]\n",
    "plt.yticks(yticks, ytick_labels)\n",
    "\n",
    "plt.yticks(yticks, ytick_labels)\n",
    "ax.legend()\n",
    "plt.axhline(y=1, color='red', linewidth=0.5, linestyle='-')\n",
    "plt.gcf().subplots_adjust(bottom=0.17)\n",
    "\n",
    "plt.xlabel('flip distance d$_F$')\n",
    "plt.ylabel('speedup $A^{*}_X/A^{*}_C$')\n",
    "plt.tight_layout()\n",
    "plt.savefig(\"plots/speedup_with_respect_to_combined.pdf\")\n",
    "\n",
    "#dF_4"
   ],
   "metadata": {
    "ExecuteTime": {
     "end_time": "2024-02-09T13:08:17.178181557Z",
     "start_time": "2024-02-09T13:08:15.022121362Z"
    }
   },
   "execution_count": 27
  },
  {
   "cell_type": "code",
   "execution_count": 28,
   "metadata": {
    "ExecuteTime": {
     "end_time": "2024-02-09T13:08:18.984287016Z",
     "start_time": "2024-02-09T13:08:17.171820188Z"
    }
   },
   "outputs": [
    {
     "data": {
      "text/plain": "<Figure size 504x180 with 1 Axes>",
      "image/png": "[encoded data removed]"
     },
     "metadata": {},
     "output_type": "display_data"
    }
   ],
   "source": [
    "#comparison of all A* approaches with respect to ratio of extended nodes\n",
    "dF_4=pd.concat([dJoinS,dJoinE])\n",
    "dF_4=dF_4[dF_4['flip_e']>10]\n",
    "dF_4['grouped_flip'] = (dF_4['flip_e'] - 10) // 2 * 2 + 10\n",
    "dF_4=dF_4[dF_4['eppstein'] -dF_4['hanke']!=0]\n",
    "dF_4=dF_4[dF_4['runtime_s']>4]\n",
    "\n",
    "\n",
    "plt.rcParams['figure.figsize'] = [7, 2.5]\n",
    "\n",
    "dF_4['Type'] = dF_4['Type'].replace('A$_S$', '$ {A}^{*}_S$')\n",
    "dF_4['Type'] = dF_4['Type'].replace('A$_E$', '$ {A}^{*}_E$')\n",
    "\n",
    "props= dict(markerfacecolor='0.75', markersize=5,\n",
    "            linestyle='none')\n",
    "ax = sns.boxplot(\n",
    "    x=\"grouped_flip\",\n",
    "    y=\"diff_closed\",\n",
    "    hue='Type',\n",
    "    data=dF_4,\n",
    "    width=0.6,\n",
    "    fliersize=1.5\n",
    ")\n",
    "plt.legend()\n",
    "ax.set_yscale('log')\n",
    "# Manually adjust y-axis ticks and labels\n",
    "yticks = [10**i for i in range(int(np.floor(np.log10(1))), int(np.ceil(np.log10(100000))))]\n",
    "ytick_labels = [f'$10^{int(np.log10(val))}$' if val >= 1 else f'$0.1$' for val in yticks]\n",
    "\n",
    "plt.yticks(yticks, ytick_labels)\n",
    "\n",
    "plt.yticks(yticks, ytick_labels)\n",
    "\n",
    "plt.axhline(y=1, color='red', linewidth=0.5, linestyle='-')\n",
    "plt.gcf().subplots_adjust(bottom=0.17)\n",
    "\n",
    "plt.xlabel('flip distance d$_F$')\n",
    "plt.ylabel('extension ratio $A^{*}_X/A^{*}_C$')\n",
    "plt.tight_layout()\n",
    "plt.savefig(\"plots/extended_ratio_with_respect_to_combined.pdf\")\n",
    "\n",
    "#dF_4"
   ]
  },
  {
   "cell_type": "code",
   "execution_count": 29,
   "metadata": {
    "ExecuteTime": {
     "end_time": "2024-02-09T13:08:20.653233342Z",
     "start_time": "2024-02-09T13:08:18.929490996Z"
    }
   },
   "outputs": [
    {
     "data": {
      "text/plain": "<Figure size 504x180 with 1 Axes>",
      "image/png": "[encoded data removed]"
     },
     "metadata": {},
     "output_type": "display_data"
    },
    {
     "data": {
      "text/plain": "                                                  file1  \\\n25    ../data/random_experiments_paper/n_15/set_0/tr...   \n29    ../data/random_experiments_paper/n_15/set_0/tr...   \n41    ../data/random_experiments_paper/n_15/set_0/tr...   \n49    ../data/random_experiments_paper/n_15/set_0/tr...   \n103   ../data/random_experiments_paper/n_15/set_0/tr...   \n...                                                 ...   \n5671  ../data/random_experiments_paper/n_30/set_4/tr...   \n5679  ../data/random_experiments_paper/n_30/set_4/tr...   \n5683  ../data/random_experiments_paper/n_30/set_4/tr...   \n5686  ../data/random_experiments_paper/n_30/set_4/tr...   \n5690  ../data/random_experiments_paper/n_30/set_4/tr...   \n\n                                                  file2  flip_self  heuristic  \\\n25    ../data/random_experiments_paper/n_15/set_0/tr...         20         18   \n29    ../data/random_experiments_paper/n_15/set_0/tr...         18         15   \n41    ../data/random_experiments_paper/n_15/set_0/tr...         22         18   \n49    ../data/random_experiments_paper/n_15/set_0/tr...         18         15   \n103   ../data/random_experiments_paper/n_15/set_0/tr...         19         17   \n...                                                 ...        ...        ...   \n5671  ../data/random_experiments_paper/n_30/set_4/tr...         42         41   \n5679  ../data/random_experiments_paper/n_30/set_4/tr...         42         41   \n5683  ../data/random_experiments_paper/n_30/set_4/tr...         37         36   \n5686  ../data/random_experiments_paper/n_30/set_4/tr...        -37         36   \n5690  ../data/random_experiments_paper/n_30/set_4/tr...         52         52   \n\n      runtime   closed      open size          Type  timeout  flip  simple  \\\n25         11     2219     13376  R15  $ {A}^{*}_S$    False    20      18   \n29         20     3669     19921  R15  $ {A}^{*}_S$    False    18      15   \n41        105    18643     82159  R15  $ {A}^{*}_S$    False    22      18   \n49         32     5995     26333  R15  $ {A}^{*}_S$    False    18      15   \n103        10     1987     11175  R15  $ {A}^{*}_S$    False    19      17   \n...       ...      ...       ...  ...           ...      ...   ...     ...   \n5671    85842   994907  18569363  R30  $ {A}^{*}_E$    False    42      39   \n5679    80573   848652  17936716  R30  $ {A}^{*}_E$    False    42      39   \n5683    57606   583388  14677466  R30  $ {A}^{*}_E$    False    37      33   \n5686   300001  3571280  53389613  R30  $ {A}^{*}_E$     True    38      36   \n5690     4150    49084   1207420  R30  $ {A}^{*}_E$    False    52      46   \n\n      hanke  eppstein  count_e  count_s  grouped_flip  \n25       20        19      NaN      NaN            20  \n29       18        16      NaN      NaN            18  \n41       22        21      NaN      NaN            22  \n49       18        17      NaN      NaN            18  \n103      19        18      NaN      NaN            18  \n...     ...       ...      ...      ...           ...  \n5671     42        41      NaN      NaN            42  \n5679     42        41      NaN      NaN            42  \n5683     37        36      NaN      NaN            36  \n5686     38        36      NaN      NaN            38  \n5690     53        52      NaN      NaN            52  \n\n[5034 rows x 17 columns]",
      "text/html": "<div>\n<style scoped>\n    .dataframe tbody tr th:only-of-type {\n        vertical-align: middle;\n    }\n\n    .dataframe tbody tr th {\n        vertical-align: top;\n    }\n\n    .dataframe thead th {\n        text-align: right;\n    }\n</style>\n<table border=\"1\" class=\"dataframe\">\n  <thead>\n    <tr style=\"text-align: right;\">\n      <th></th>\n      <th>file1</th>\n      <th>file2</th>\n      <th>flip_self</th>\n      <th>heuristic</th>\n      <th>runtime</th>\n      <th>closed</th>\n      <th>open</th>\n      <th>size</th>\n      <th>Type</th>\n      <th>timeout</th>\n      <th>flip</th>\n      <th>simple</th>\n      <th>hanke</th>\n      <th>eppstein</th>\n      <th>count_e</th>\n      <th>count_s</th>\n      <th>grouped_flip</th>\n    </tr>\n  </thead>\n  <tbody>\n    <tr>\n      <th>25</th>\n      <td>../data/random_experiments_paper/n_15/set_0/tr...</td>\n      <td>../data/random_experiments_paper/n_15/set_0/tr...</td>\n      <td>20</td>\n      <td>18</td>\n      <td>11</td>\n      <td>2219</td>\n      <td>13376</td>\n      <td>R15</td>\n      <td>$ {A}^{*}_S$</td>\n      <td>False</td>\n      <td>20</td>\n      <td>18</td>\n      <td>20</td>\n      <td>19</td>\n      <td>NaN</td>\n      <td>NaN</td>\n      <td>20</td>\n    </tr>\n    <tr>\n      <th>29</th>\n      <td>../data/random_experiments_paper/n_15/set_0/tr...</td>\n      <td>../data/random_experiments_paper/n_15/set_0/tr...</td>\n      <td>18</td>\n      <td>15</td>\n      <td>20</td>\n      <td>3669</td>\n      <td>19921</td>\n      <td>R15</td>\n      <td>$ {A}^{*}_S$</td>\n      <td>False</td>\n      <td>18</td>\n      <td>15</td>\n      <td>18</td>\n      <td>16</td>\n      <td>NaN</td>\n      <td>NaN</td>\n      <td>18</td>\n    </tr>\n    <tr>\n      <th>41</th>\n      <td>../data/random_experiments_paper/n_15/set_0/tr...</td>\n      <td>../data/random_experiments_paper/n_15/set_0/tr...</td>\n      <td>22</td>\n      <td>18</td>\n      <td>105</td>\n      <td>18643</td>\n      <td>82159</td>\n      <td>R15</td>\n      <td>$ {A}^{*}_S$</td>\n      <td>False</td>\n      <td>22</td>\n      <td>18</td>\n      <td>22</td>\n      <td>21</td>\n      <td>NaN</td>\n      <td>NaN</td>\n      <td>22</td>\n    </tr>\n    <tr>\n      <th>49</th>\n      <td>../data/random_experiments_paper/n_15/set_0/tr...</td>\n      <td>../data/random_experiments_paper/n_15/set_0/tr...</td>\n      <td>18</td>\n      <td>15</td>\n      <td>32</td>\n      <td>5995</td>\n      <td>26333</td>\n      <td>R15</td>\n      <td>$ {A}^{*}_S$</td>\n      <td>False</td>\n      <td>18</td>\n      <td>15</td>\n      <td>18</td>\n      <td>17</td>\n      <td>NaN</td>\n      <td>NaN</td>\n      <td>18</td>\n    </tr>\n    <tr>\n      <th>103</th>\n      <td>../data/random_experiments_paper/n_15/set_0/tr...</td>\n      <td>../data/random_experiments_paper/n_15/set_0/tr...</td>\n      <td>19</td>\n      <td>17</td>\n      <td>10</td>\n      <td>1987</td>\n      <td>11175</td>\n      <td>R15</td>\n      <td>$ {A}^{*}_S$</td>\n      <td>False</td>\n      <td>19</td>\n      <td>17</td>\n      <td>19</td>\n      <td>18</td>\n      <td>NaN</td>\n      <td>NaN</td>\n      <td>18</td>\n    </tr>\n    <tr>\n      <th>...</th>\n      <td>...</td>\n      <td>...</td>\n      <td>...</td>\n      <td>...</td>\n      <td>...</td>\n      <td>...</td>\n      <td>...</td>\n      <td>...</td>\n      <td>...</td>\n      <td>...</td>\n      <td>...</td>\n      <td>...</td>\n      <td>...</td>\n      <td>...</td>\n      <td>...</td>\n      <td>...</td>\n      <td>...</td>\n    </tr>\n    <tr>\n      <th>5671</th>\n      <td>../data/random_experiments_paper/n_30/set_4/tr...</td>\n      <td>../data/random_experiments_paper/n_30/set_4/tr...</td>\n      <td>42</td>\n      <td>41</td>\n      <td>85842</td>\n      <td>994907</td>\n      <td>18569363</td>\n      <td>R30</td>\n      <td>$ {A}^{*}_E$</td>\n      <td>False</td>\n      <td>42</td>\n      <td>39</td>\n      <td>42</td>\n      <td>41</td>\n      <td>NaN</td>\n      <td>NaN</td>\n      <td>42</td>\n    </tr>\n    <tr>\n      <th>5679</th>\n      <td>../data/random_experiments_paper/n_30/set_4/tr...</td>\n      <td>../data/random_experiments_paper/n_30/set_4/tr...</td>\n      <td>42</td>\n      <td>41</td>\n      <td>80573</td>\n      <td>848652</td>\n      <td>17936716</td>\n      <td>R30</td>\n      <td>$ {A}^{*}_E$</td>\n      <td>False</td>\n      <td>42</td>\n      <td>39</td>\n      <td>42</td>\n      <td>41</td>\n      <td>NaN</td>\n      <td>NaN</td>\n      <td>42</td>\n    </tr>\n    <tr>\n      <th>5683</th>\n      <td>../data/random_experiments_paper/n_30/set_4/tr...</td>\n      <td>../data/random_experiments_paper/n_30/set_4/tr...</td>\n      <td>37</td>\n      <td>36</td>\n      <td>57606</td>\n      <td>583388</td>\n      <td>14677466</td>\n      <td>R30</td>\n      <td>$ {A}^{*}_E$</td>\n      <td>False</td>\n      <td>37</td>\n      <td>33</td>\n      <td>37</td>\n      <td>36</td>\n      <td>NaN</td>\n      <td>NaN</td>\n      <td>36</td>\n    </tr>\n    <tr>\n      <th>5686</th>\n      <td>../data/random_experiments_paper/n_30/set_4/tr...</td>\n      <td>../data/random_experiments_paper/n_30/set_4/tr...</td>\n      <td>-37</td>\n      <td>36</td>\n      <td>300001</td>\n      <td>3571280</td>\n      <td>53389613</td>\n      <td>R30</td>\n      <td>$ {A}^{*}_E$</td>\n      <td>True</td>\n      <td>38</td>\n      <td>36</td>\n      <td>38</td>\n      <td>36</td>\n      <td>NaN</td>\n      <td>NaN</td>\n      <td>38</td>\n    </tr>\n    <tr>\n      <th>5690</th>\n      <td>../data/random_experiments_paper/n_30/set_4/tr...</td>\n      <td>../data/random_experiments_paper/n_30/set_4/tr...</td>\n      <td>52</td>\n      <td>52</td>\n      <td>4150</td>\n      <td>49084</td>\n      <td>1207420</td>\n      <td>R30</td>\n      <td>$ {A}^{*}_E$</td>\n      <td>False</td>\n      <td>52</td>\n      <td>46</td>\n      <td>53</td>\n      <td>52</td>\n      <td>NaN</td>\n      <td>NaN</td>\n      <td>52</td>\n    </tr>\n  </tbody>\n</table>\n<p>5034 rows × 17 columns</p>\n</div>"
     },
     "execution_count": 29,
     "metadata": {},
     "output_type": "execute_result"
    }
   ],
   "source": [
    "#comparison of all A* approaches with respect to absolute number of extended nodes\n",
    "dF3=pd.concat([dRS,dRC,dRE])\n",
    "\n",
    "specific_sizes = ['S25-25', 'R25','R20','R15','R30','S25-2','S25-5','S30-2','S30-5','S30-30']\n",
    "dF3 = dF3[dF3['size'].isin(specific_sizes)]\n",
    "\n",
    "dF3=dF3[dF3['eppstein'] -dF3['hanke']!=0]\n",
    "dF3 = dF3[dF3['flip'] > 11]\n",
    "dF3 = dF3[dF3['flip'] != 54]\n",
    "dF3 = dF3[dF3['runtime'] > 4]\n",
    "dF3['grouped_flip'] = ((dF3['flip'] - 10) // 2 * 2 + 10)\n",
    "\n",
    "my_palette=[CAS,CAC,CAE]\n",
    "\n",
    "dF3['Type'] = dF3['Type'].replace('A$_S$', '$ {A}^{*}_S$')\n",
    "dF3['Type'] = dF3['Type'].replace('A$_C$', '$ {A}^{*}_C$')\n",
    "dF3['Type'] = dF3['Type'].replace('A$_E$', '$ {A}^{*}_E$')\n",
    "\n",
    "plt.rcParams['figure.figsize'] = [7, 2.5]\n",
    "ax = sns.boxplot(x=\"grouped_flip\", y=\"closed\", hue=\"Type\" , width=0.7, data=dF3,fliersize=1.5,palette=my_palette)\n",
    "\n",
    "\n",
    "ax.set_yscale('log')\n",
    "plt.gcf().subplots_adjust(bottom=0.17)\n",
    "\n",
    "yticks = [10**i for i in range(int(np.floor(np.log10(100))), int(np.ceil(np.log10(1000000000))))]\n",
    "ytick_labels = [f'$10^{int(np.log10(val))}$' for val in yticks]\n",
    "\n",
    "plt.yticks(yticks, ytick_labels)\n",
    "plt.xlabel('flip distance d$_F$')\n",
    "plt.ylabel('nr. of extended nodes')\n",
    "plt.legend(loc='upper left', bbox_to_anchor=(0, 1.03), borderaxespad=0.)\n",
    "\n",
    "plt.tight_layout()\n",
    "plt.savefig(\"plots/extended_with_combined.pdf\")\n",
    "\n",
    "plt.show()\n",
    "plt.clf()\n",
    "plt.close()\n",
    "dF3"
   ]
  },
  {
   "cell_type": "code",
   "execution_count": 30,
   "metadata": {
    "ExecuteTime": {
     "end_time": "2024-02-09T13:08:20.703767457Z",
     "start_time": "2024-02-09T13:08:20.650719906Z"
    }
   },
   "outputs": [
    {
     "data": {
      "text/plain": "                                                  file1  \\\n0     ../data/random_experiments_paper/n_15/set_0/tr...   \n1     ../data/random_experiments_paper/n_15/set_0/tr...   \n2     ../data/random_experiments_paper/n_15/set_0/tr...   \n3     ../data/random_experiments_paper/n_15/set_0/tr...   \n4     ../data/random_experiments_paper/n_15/set_0/tr...   \n...                                                 ...   \n9712  ../data/sealevel_experiments_paper/s_41/s_41_1...   \n9743  ../data/sealevel_experiments_paper/s_41/s_41_1...   \n9810  ../data/sealevel_experiments_paper/s_41/s_41_1...   \n9820  ../data/sealevel_experiments_paper/s_41/s_41_1...   \n9914  ../data/sealevel_experiments_paper/s_41/s_41_1...   \n\n                                                  file2  flip_e  runtime_e  \\\n0     ../data/random_experiments_paper/n_15/set_0/tr...      17          1   \n1     ../data/random_experiments_paper/n_15/set_0/tr...      10          1   \n2     ../data/random_experiments_paper/n_15/set_0/tr...       9          1   \n3     ../data/random_experiments_paper/n_15/set_0/tr...      20          1   \n4     ../data/random_experiments_paper/n_15/set_0/tr...      14          1   \n...                                                 ...     ...        ...   \n9712  ../data/sealevel_experiments_paper/s_41/s_41_1...      48          1   \n9743  ../data/sealevel_experiments_paper/s_41/s_41_1...      49          1   \n9810  ../data/sealevel_experiments_paper/s_41/s_41_1...      37      33853   \n9820  ../data/sealevel_experiments_paper/s_41/s_41_1...      52          1   \n9914  ../data/sealevel_experiments_paper/s_41/s_41_1...      35          1   \n\n      closed_e  heuristic_e  hanke  eppstein    size  runtime_s  closed_s  \\\n0           -1           17     17        17     R15          1        -1   \n1           -1           10     10        10     R15          1        -1   \n2           -1            9      9         9     R15          1        19   \n3           -1           20     20        20     R15         11      2022   \n4           -1           14     14        14     R15          1        -1   \n...        ...          ...    ...       ...     ...        ...       ...   \n9712        -1           48     48        48  S41-41     300001   7040576   \n9743        -1           49     49        49  S41-41     300001   6796165   \n9810    318978           36     37        36  S41-41     132706   3684001   \n9820        -1           52     52        52  S41-41     300001   7152202   \n9914        -1           35     35        35  S41-41          1        -1   \n\n      heuristic_s   Type  diff_heuristic   diff_rt   diff_closed    win  \\\n0              17  A$_S$               0  1.000000  1.000000e+00  A$_E$   \n1              10  A$_S$               0  1.000000  1.000000e+00  A$_E$   \n2               8  A$_S$               1  1.000000 -1.900000e+01  A$_E$   \n3              19  A$_S$               1  0.090909 -2.022000e+03  A$_E$   \n4              14  A$_S$               0  1.000000  1.000000e+00  A$_E$   \n...           ...    ...             ...       ...           ...    ...   \n9712           45  A$_S$               3  0.000003 -7.040576e+06  A$_E$   \n9743           48  A$_S$               1  0.000003 -6.796165e+06  A$_E$   \n9810           33  A$_S$               3  0.255098  1.154939e+01  A$_E$   \n9820           47  A$_S$               5  0.000003 -7.152202e+06  A$_E$   \n9914           35  A$_S$               0  1.000000  1.000000e+00  A$_E$   \n\n      deltaheuristic  \n0                  0  \n1                  0  \n2                  1  \n3                  1  \n4                  0  \n...              ...  \n9712               3  \n9743               1  \n9810               3  \n9820               5  \n9914               0  \n\n[8760 rows x 18 columns]",
      "text/html": "<div>\n<style scoped>\n    .dataframe tbody tr th:only-of-type {\n        vertical-align: middle;\n    }\n\n    .dataframe tbody tr th {\n        vertical-align: top;\n    }\n\n    .dataframe thead th {\n        text-align: right;\n    }\n</style>\n<table border=\"1\" class=\"dataframe\">\n  <thead>\n    <tr style=\"text-align: right;\">\n      <th></th>\n      <th>file1</th>\n      <th>file2</th>\n      <th>flip_e</th>\n      <th>runtime_e</th>\n      <th>closed_e</th>\n      <th>heuristic_e</th>\n      <th>hanke</th>\n      <th>eppstein</th>\n      <th>size</th>\n      <th>runtime_s</th>\n      <th>closed_s</th>\n      <th>heuristic_s</th>\n      <th>Type</th>\n      <th>diff_heuristic</th>\n      <th>diff_rt</th>\n      <th>diff_closed</th>\n      <th>win</th>\n      <th>deltaheuristic</th>\n    </tr>\n  </thead>\n  <tbody>\n    <tr>\n      <th>0</th>\n      <td>../data/random_experiments_paper/n_15/set_0/tr...</td>\n      <td>../data/random_experiments_paper/n_15/set_0/tr...</td>\n      <td>17</td>\n      <td>1</td>\n      <td>-1</td>\n      <td>17</td>\n      <td>17</td>\n      <td>17</td>\n      <td>R15</td>\n      <td>1</td>\n      <td>-1</td>\n      <td>17</td>\n      <td>A$_S$</td>\n      <td>0</td>\n      <td>1.000000</td>\n      <td>1.000000e+00</td>\n      <td>A$_E$</td>\n      <td>0</td>\n    </tr>\n    <tr>\n      <th>1</th>\n      <td>../data/random_experiments_paper/n_15/set_0/tr...</td>\n      <td>../data/random_experiments_paper/n_15/set_0/tr...</td>\n      <td>10</td>\n      <td>1</td>\n      <td>-1</td>\n      <td>10</td>\n      <td>10</td>\n      <td>10</td>\n      <td>R15</td>\n      <td>1</td>\n      <td>-1</td>\n      <td>10</td>\n      <td>A$_S$</td>\n      <td>0</td>\n      <td>1.000000</td>\n      <td>1.000000e+00</td>\n      <td>A$_E$</td>\n      <td>0</td>\n    </tr>\n    <tr>\n      <th>2</th>\n      <td>../data/random_experiments_paper/n_15/set_0/tr...</td>\n      <td>../data/random_experiments_paper/n_15/set_0/tr...</td>\n      <td>9</td>\n      <td>1</td>\n      <td>-1</td>\n      <td>9</td>\n      <td>9</td>\n      <td>9</td>\n      <td>R15</td>\n      <td>1</td>\n      <td>19</td>\n      <td>8</td>\n      <td>A$_S$</td>\n      <td>1</td>\n      <td>1.000000</td>\n      <td>-1.900000e+01</td>\n      <td>A$_E$</td>\n      <td>1</td>\n    </tr>\n    <tr>\n      <th>3</th>\n      <td>../data/random_experiments_paper/n_15/set_0/tr...</td>\n      <td>../data/random_experiments_paper/n_15/set_0/tr...</td>\n      <td>20</td>\n      <td>1</td>\n      <td>-1</td>\n      <td>20</td>\n      <td>20</td>\n      <td>20</td>\n      <td>R15</td>\n      <td>11</td>\n      <td>2022</td>\n      <td>19</td>\n      <td>A$_S$</td>\n      <td>1</td>\n      <td>0.090909</td>\n      <td>-2.022000e+03</td>\n      <td>A$_E$</td>\n      <td>1</td>\n    </tr>\n    <tr>\n      <th>4</th>\n      <td>../data/random_experiments_paper/n_15/set_0/tr...</td>\n      <td>../data/random_experiments_paper/n_15/set_0/tr...</td>\n      <td>14</td>\n      <td>1</td>\n      <td>-1</td>\n      <td>14</td>\n      <td>14</td>\n      <td>14</td>\n      <td>R15</td>\n      <td>1</td>\n      <td>-1</td>\n      <td>14</td>\n      <td>A$_S$</td>\n      <td>0</td>\n      <td>1.000000</td>\n      <td>1.000000e+00</td>\n      <td>A$_E$</td>\n      <td>0</td>\n    </tr>\n    <tr>\n      <th>...</th>\n      <td>...</td>\n      <td>...</td>\n      <td>...</td>\n      <td>...</td>\n      <td>...</td>\n      <td>...</td>\n      <td>...</td>\n      <td>...</td>\n      <td>...</td>\n      <td>...</td>\n      <td>...</td>\n      <td>...</td>\n      <td>...</td>\n      <td>...</td>\n      <td>...</td>\n      <td>...</td>\n      <td>...</td>\n      <td>...</td>\n    </tr>\n    <tr>\n      <th>9712</th>\n      <td>../data/sealevel_experiments_paper/s_41/s_41_1...</td>\n      <td>../data/sealevel_experiments_paper/s_41/s_41_1...</td>\n      <td>48</td>\n      <td>1</td>\n      <td>-1</td>\n      <td>48</td>\n      <td>48</td>\n      <td>48</td>\n      <td>S41-41</td>\n      <td>300001</td>\n      <td>7040576</td>\n      <td>45</td>\n      <td>A$_S$</td>\n      <td>3</td>\n      <td>0.000003</td>\n      <td>-7.040576e+06</td>\n      <td>A$_E$</td>\n      <td>3</td>\n    </tr>\n    <tr>\n      <th>9743</th>\n      <td>../data/sealevel_experiments_paper/s_41/s_41_1...</td>\n      <td>../data/sealevel_experiments_paper/s_41/s_41_1...</td>\n      <td>49</td>\n      <td>1</td>\n      <td>-1</td>\n      <td>49</td>\n      <td>49</td>\n      <td>49</td>\n      <td>S41-41</td>\n      <td>300001</td>\n      <td>6796165</td>\n      <td>48</td>\n      <td>A$_S$</td>\n      <td>1</td>\n      <td>0.000003</td>\n      <td>-6.796165e+06</td>\n      <td>A$_E$</td>\n      <td>1</td>\n    </tr>\n    <tr>\n      <th>9810</th>\n      <td>../data/sealevel_experiments_paper/s_41/s_41_1...</td>\n      <td>../data/sealevel_experiments_paper/s_41/s_41_1...</td>\n      <td>37</td>\n      <td>33853</td>\n      <td>318978</td>\n      <td>36</td>\n      <td>37</td>\n      <td>36</td>\n      <td>S41-41</td>\n      <td>132706</td>\n      <td>3684001</td>\n      <td>33</td>\n      <td>A$_S$</td>\n      <td>3</td>\n      <td>0.255098</td>\n      <td>1.154939e+01</td>\n      <td>A$_E$</td>\n      <td>3</td>\n    </tr>\n    <tr>\n      <th>9820</th>\n      <td>../data/sealevel_experiments_paper/s_41/s_41_1...</td>\n      <td>../data/sealevel_experiments_paper/s_41/s_41_1...</td>\n      <td>52</td>\n      <td>1</td>\n      <td>-1</td>\n      <td>52</td>\n      <td>52</td>\n      <td>52</td>\n      <td>S41-41</td>\n      <td>300001</td>\n      <td>7152202</td>\n      <td>47</td>\n      <td>A$_S$</td>\n      <td>5</td>\n      <td>0.000003</td>\n      <td>-7.152202e+06</td>\n      <td>A$_E$</td>\n      <td>5</td>\n    </tr>\n    <tr>\n      <th>9914</th>\n      <td>../data/sealevel_experiments_paper/s_41/s_41_1...</td>\n      <td>../data/sealevel_experiments_paper/s_41/s_41_1...</td>\n      <td>35</td>\n      <td>1</td>\n      <td>-1</td>\n      <td>35</td>\n      <td>35</td>\n      <td>35</td>\n      <td>S41-41</td>\n      <td>1</td>\n      <td>-1</td>\n      <td>35</td>\n      <td>A$_S$</td>\n      <td>0</td>\n      <td>1.000000</td>\n      <td>1.000000e+00</td>\n      <td>A$_E$</td>\n      <td>0</td>\n    </tr>\n  </tbody>\n</table>\n<p>8760 rows × 18 columns</p>\n</div>"
     },
     "execution_count": 30,
     "metadata": {},
     "output_type": "execute_result"
    }
   ],
   "source": [
    "dTmp_4E=pd.concat([dAE])\n",
    "dTmp_4S=pd.concat([dAS])\n",
    "\n",
    "dTmp_4E.rename(columns={'flip':'flip_e','runtime': 'runtime_e','closed': 'closed_e','open': 'open_e','heuristic':'heuristic_e'},inplace=True)\n",
    "dTmp_4S.rename(columns={'flip':'flip_s','runtime': 'runtime_s','closed': 'closed_s','open': 'open_s','heuristic':'heuristic_s'},inplace=True)\n",
    "\n",
    "dJoin_realSE=pd.merge(\n",
    "    dTmp_4E[[ 'file1', 'file2','flip_e', 'runtime_e','closed_e','heuristic_e','hanke','eppstein','size']],\n",
    "    dTmp_4S[['runtime_s', 'file1', 'file2','closed_s','heuristic_s','size']],\n",
    "    on=['file1', 'file2','size']\n",
    ")\n",
    "\n",
    "dJoin_realSE= dJoin_realSE[(dJoin_realSE['flip_e'] > -1) ]\n",
    "\n",
    "dJoin_realSE['Type'] = 'A$_S$'\n",
    "dJoin_realSE['diff_heuristic'] = dJoin_realSE['heuristic_e']-dJoin_realSE['heuristic_s']\n",
    "dJoin_realSE['diff_rt'] = dJoin_realSE['runtime_e']/dJoin_realSE['runtime_s']\n",
    "dJoin_realSE['diff_closed'] = dJoin_realSE['closed_s']/dJoin_realSE['closed_e']\n",
    "dJoin_realSE['win'] = np.where(dJoin_realSE['runtime_e'] <= dJoin_realSE['runtime_s'], 'A$_E$', 'A$_S$')\n",
    "dJoin_realSE['deltaheuristic'] = dJoin_realSE['heuristic_e']-dJoin_realSE['heuristic_s']\n",
    "\n",
    "dJoin_realSE"
   ]
  },
  {
   "cell_type": "code",
   "execution_count": 31,
   "metadata": {
    "ExecuteTime": {
     "end_time": "2024-02-09T13:08:21.157543576Z",
     "start_time": "2024-02-09T13:08:20.685617658Z"
    }
   },
   "outputs": [
    {
     "data": {
      "text/plain": "<Figure size 576x180 with 1 Axes>",
      "image/png": "[encoded data removed]"
     },
     "metadata": {},
     "output_type": "display_data"
    }
   ],
   "source": [
    "#ratio with respect to delta h\n",
    "dF_4=dJoin_realSE\n",
    "dF_4['grouped_flip'] = (dF_4['flip_e'] - 10) // 2 * 2 + 10\n",
    "dF_4=dF_4[dF_4['eppstein'] -dF_4['hanke']!=0]\n",
    "dF_4=dF_4[dF_4['runtime_s']>4]\n",
    "dF_4=dF_4[dF_4['deltaheuristic']<=10]\n",
    "\n",
    "\n",
    "plt.rcParams['figure.figsize'] = [8, 2.5]\n",
    "\n",
    "\n",
    "props= dict(markerfacecolor='0.75', markersize=5,\n",
    "            linestyle='none')\n",
    "ax = sns.boxplot(\n",
    "    x=\"deltaheuristic\",\n",
    "    y=\"diff_closed\",\n",
    "    #hue='Type',\n",
    "    data=dF_4,\n",
    "    width=0.6,\n",
    "    color='gray',\n",
    "    #hue_order=['A$_S$', 'A$_E$'],\n",
    "    fliersize=1.5\n",
    ")\n",
    "ax.set_yscale('log')\n",
    "# Manually adjust y-axis ticks and labels\n",
    "yticks = [10**i for i in range(int(np.floor(np.log10(1))), int(np.ceil(np.log10(1000000))))]\n",
    "ytick_labels = [f'$10^{int(np.log10(val))}$' if val >= 1 else f'$0.1$' for val in yticks]\n",
    "\n",
    "plt.yticks(yticks, ytick_labels)\n",
    "\n",
    "#plt.yticks(yticks, ytick_labels)\n",
    "\n",
    "plt.axhline(y=1, color='red', linewidth=0.5, linestyle='-')\n",
    "plt.gcf().subplots_adjust(bottom=0.17)\n",
    "\n",
    "plt.xlabel(\"$\\Delta h$ at $D_s$\")\n",
    "plt.ylabel('extension ratio $A_S/A_E$')\n",
    "plt.tight_layout()\n",
    "plt.savefig(\"plots/extended_ratio_depending_delta_h.pdf\")\n",
    "\n",
    "#dF_4"
   ]
  },
  {
   "cell_type": "code",
   "execution_count": 32,
   "metadata": {
    "ExecuteTime": {
     "end_time": "2024-02-09T13:08:21.175451792Z",
     "start_time": "2024-02-09T13:08:21.161846462Z"
    }
   },
   "outputs": [
    {
     "name": "stdout",
     "output_type": "stream",
     "text": [
      "0.661505753968254\n"
     ]
    }
   ],
   "source": [
    "#average runtime of decomposition approach on realworld data\n",
    "\n",
    "dDecomposition.rename(columns={'flip': 'flip_heuristic'}, inplace=True)\n",
    "dHeuristic.rename(columns={'flip': 'flip_real'}, inplace=True)\n",
    "final_df = pd.merge(dDecomposition[['file1','file2','size','flip_heuristic','runtime','used_hanke']],dHeuristic[['file1','file2','size','flip_real']],on=['file1','file2','size'])\n",
    "final_df['optimal'] = (final_df['flip_heuristic'] == final_df['flip_real']).astype(int)\n",
    "final_df['solvable'] = (final_df['flip_real']>=0).astype(int)\n",
    "\n",
    "optimal_count = final_df['optimal'].sum()\n",
    "solvable = final_df['solvable'].sum()\n",
    "average_runtime = final_df['runtime'].mean()\n",
    "overall_runtime = final_df['runtime'].sum()\n",
    "print(average_runtime)\n",
    "\n"
   ]
  },
  {
   "cell_type": "code",
   "execution_count": 33,
   "metadata": {
    "ExecuteTime": {
     "end_time": "2024-02-09T13:08:21.551437989Z",
     "start_time": "2024-02-09T13:08:21.179785451Z"
    }
   },
   "outputs": [
    {
     "data": {
      "text/plain": "<Figure size 288x144 with 1 Axes>",
      "image/png": "[encoded data removed]"
     },
     "metadata": {},
     "output_type": "display_data"
    }
   ],
   "source": [
    "#boxplot of average runtimes of decomposition (including solving) on random data\n",
    "\n",
    "dDecompositionRuntime  = pd.read_csv(\"/home/philip/Projects/sea_experiments/data/random_hod_experiments_paper/results_decomposition.csv\", sep=\" \")\n",
    "dDecompositionRuntime = dDecompositionRuntime.drop(columns=['order'], errors='ignore')\n",
    "dDecompositionRuntime.rename(columns={'Unnamed: 5': 'order'}, inplace=True)\n",
    "dDecompositionRuntime=dDecompositionRuntime[dDecompositionRuntime['order']==5]\n",
    "\n",
    "plt.rcParams['figure.figsize'] = [4, 2]\n",
    "sns.boxplot(x='size', y='runtime', data=dDecompositionRuntime, color=CAS, fliersize=1.5)\n",
    "\n",
    "plt.xlabel('size $n$')\n",
    "plt.ylabel('runtime [$ms$]')\n",
    "# Adjust layout to prevent clipping of labels\n",
    "plt.tight_layout()\n",
    "\n",
    "# Save the figure to a file (change filename and format as needed)\n",
    "plt.savefig('plots/runtime_decomposition.pdf')\n",
    "plt.show()"
   ]
  },
  {
   "cell_type": "code",
   "outputs": [],
   "source": [],
   "metadata": {
    "collapsed": false,
    "ExecuteTime": {
     "end_time": "2024-02-09T13:08:21.589047819Z",
     "start_time": "2024-02-09T13:08:21.532850730Z"
    }
   },
   "execution_count": 33
  }
 ],
 "metadata": {
  "kernelspec": {
   "display_name": "Python 3 (ipykernel)",
   "language": "python",
   "name": "python3"
  },
  "language_info": {
   "codemirror_mode": {
    "name": "ipython",
    "version": 3
   },
   "file_extension": ".py",
   "mimetype": "text/x-python",
   "name": "python",
   "nbconvert_exporter": "python",
   "pygments_lexer": "ipython3",
   "version": "3.9.12"
  }
 },
 "nbformat": 4,
 "nbformat_minor": 1
}
